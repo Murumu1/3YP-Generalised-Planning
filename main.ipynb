{
 "cells": [
  {
   "cell_type": "markdown",
   "source": [
    "# Third Year Project 2023-24 Experiments\n",
    "#### Murtaza Daudali"
   ],
   "metadata": {
    "collapsed": false
   },
   "id": "51c0905ff07bf662"
  },
  {
   "cell_type": "markdown",
   "source": [
    "## Set-up\n",
    "Before compiling this notebook, please ensure you have all pre-requisite packages installed, this can be done by running:\n",
    "\n",
    "`pip install -r requirements.txt`"
   ],
   "metadata": {
    "collapsed": false
   },
   "id": "e408c583e6463518"
  },
  {
   "cell_type": "code",
   "outputs": [],
   "source": [
    "from generators.snake_generator import SnakeGenerator\n",
    "from generators.maze_generators import PartiallySolvedProblemGenerator\n",
    "%matplotlib inline"
   ],
   "metadata": {
    "collapsed": false,
    "ExecuteTime": {
     "end_time": "2024-04-03T00:53:14.659701Z",
     "start_time": "2024-04-03T00:53:14.656830Z"
    }
   },
   "id": "f5cef981657e4060",
   "execution_count": 5
  },
  {
   "cell_type": "code",
   "outputs": [
    {
     "name": "stdout",
     "output_type": "stream",
     "text": [
      "[DEBUG] snake environment generated successfully\n",
      "[DEBUG] problem added\n"
     ]
    },
    {
     "data": {
      "text/plain": "<Figure size 2000x1000 with 1 Axes>",
      "image/png": "[encoded data removed]"
     },
     "metadata": {},
     "output_type": "display_data"
    }
   ],
   "source": [
    "snake_generator = SnakeGenerator(problem_count=1, auto=True)\n",
    "snake_generator.display_images()"
   ],
   "metadata": {
    "collapsed": false,
    "ExecuteTime": {
     "end_time": "2024-04-03T00:53:14.960854Z",
     "start_time": "2024-04-03T00:53:14.667841Z"
    }
   },
   "id": "592399e8aca5e099",
   "execution_count": 6
  },
  {
   "cell_type": "code",
   "outputs": [
    {
     "name": "stdout",
     "output_type": "stream",
     "text": [
      "Problem 0:\n",
      "problem name = snake0\n",
      "\n",
      "types = [position]\n",
      "\n",
      "fluents = [\n",
      "  bool path[x=position, y=position]\n",
      "  bool head-at[x=position]\n",
      "  bool tail-at[x=position]\n",
      "  bool body-con[x=position, y=position]\n",
      "  bool blocked[x=position]\n",
      "  bool apple-at[x=position]\n",
      "  bool spawn-apple[x=position]\n",
      "  bool next-apple[x=position, y=position]\n",
      "]\n",
      "\n",
      "actions = [\n",
      "  action move(position head, position newhead, position tail, position newtail) {\n",
      "    preconditions = [\n",
      "      (head-at(head) and path(head, newhead) and tail-at(tail) and body-con(newtail, tail) and (not blocked(newhead)) and (not apple-at(newhead)))\n",
      "    ]\n",
      "    effects = [\n",
      "      blocked(newhead) := true\n",
      "      head-at(newhead) := true\n",
      "      body-con(newhead, head) := true\n",
      "      head-at(head) := false\n",
      "      blocked(tail) := false\n",
      "      tail-at(tail) := false\n",
      "      body-con(newtail, tail) := false\n",
      "      tail-at(newtail) := true\n",
      "    ]\n",
      "  }\n",
      "  action move-and-eat(position head, position newhead, position spawn, position nextspawn) {\n",
      "    preconditions = [\n",
      "      (head-at(head) and path(head, newhead) and (not blocked(newhead)) and apple-at(newhead) and spawn-apple(spawn) and next-apple(spawn, nextspawn) and (not (spawn == dummypoint)))\n",
      "    ]\n",
      "    effects = [\n",
      "      blocked(newhead) := true\n",
      "      head-at(newhead) := true\n",
      "      body-con(newhead, head) := true\n",
      "      head-at(head) := false\n",
      "      apple-at(newhead) := false\n",
      "      apple-at(spawn) := true\n",
      "      spawn-apple(spawn) := false\n",
      "      spawn-apple(nextspawn) := true\n",
      "    ]\n",
      "  }\n",
      "  action move-and-eat-no-spawn(position head, position newhead) {\n",
      "    preconditions = [\n",
      "      (head-at(head) and path(head, newhead) and (not blocked(newhead)) and apple-at(newhead) and spawn-apple(dummypoint))\n",
      "    ]\n",
      "    effects = [\n",
      "      blocked(newhead) := true\n",
      "      head-at(newhead) := true\n",
      "      body-con(newhead, head) := true\n",
      "      head-at(head) := false\n",
      "      apple-at(newhead) := false\n",
      "    ]\n",
      "  }\n",
      "]\n",
      "\n",
      "objects = [\n",
      "  position: [dummypoint, p0-0, p0-1, p0-2, p0-3, p0-4, p1-0, p1-1, p1-2, p1-3, p1-4, p2-0, p2-1, p2-2, p2-3, p2-4, p3-0, p3-1, p3-2, p3-3, p3-4, p4-0, p4-1, p4-2, p4-3, p4-4]\n",
      "]\n",
      "\n",
      "initial fluents default = [\n",
      "  bool path[x=position, y=position] := false\n",
      "  bool head-at[x=position] := false\n",
      "  bool tail-at[x=position] := false\n",
      "  bool body-con[x=position, y=position] := false\n",
      "  bool blocked[x=position] := false\n",
      "  bool apple-at[x=position] := false\n",
      "  bool spawn-apple[x=position] := false\n",
      "  bool next-apple[x=position, y=position] := false\n",
      "]\n",
      "\n",
      "initial values = [\n",
      "  path(p0-1, p0-0) := true\n",
      "  path(p0-0, p0-1) := true\n",
      "  path(p1-0, p0-0) := true\n",
      "  path(p0-0, p1-0) := true\n",
      "  path(p0-2, p0-1) := true\n",
      "  path(p0-1, p0-2) := true\n",
      "  path(p1-1, p0-1) := true\n",
      "  path(p0-1, p1-1) := true\n",
      "  path(p0-3, p0-2) := true\n",
      "  path(p0-2, p0-3) := true\n",
      "  path(p1-2, p0-2) := true\n",
      "  path(p0-2, p1-2) := true\n",
      "  path(p0-4, p0-3) := true\n",
      "  path(p0-3, p0-4) := true\n",
      "  path(p1-3, p0-3) := true\n",
      "  path(p0-3, p1-3) := true\n",
      "  path(p1-4, p0-4) := true\n",
      "  path(p0-4, p1-4) := true\n",
      "  path(p1-1, p1-0) := true\n",
      "  path(p1-0, p1-1) := true\n",
      "  path(p2-0, p1-0) := true\n",
      "  path(p1-0, p2-0) := true\n",
      "  path(p1-2, p1-1) := true\n",
      "  path(p1-1, p1-2) := true\n",
      "  path(p2-1, p1-1) := true\n",
      "  path(p1-1, p2-1) := true\n",
      "  path(p1-3, p1-2) := true\n",
      "  path(p1-2, p1-3) := true\n",
      "  path(p2-2, p1-2) := true\n",
      "  path(p1-2, p2-2) := true\n",
      "  path(p1-4, p1-3) := true\n",
      "  path(p1-3, p1-4) := true\n",
      "  path(p2-3, p1-3) := true\n",
      "  path(p1-3, p2-3) := true\n",
      "  path(p2-4, p1-4) := true\n",
      "  path(p1-4, p2-4) := true\n",
      "  path(p2-1, p2-0) := true\n",
      "  path(p2-0, p2-1) := true\n",
      "  path(p3-0, p2-0) := true\n",
      "  path(p2-0, p3-0) := true\n",
      "  path(p2-2, p2-1) := true\n",
      "  path(p2-1, p2-2) := true\n",
      "  path(p3-1, p2-1) := true\n",
      "  path(p2-1, p3-1) := true\n",
      "  path(p2-3, p2-2) := true\n",
      "  path(p2-2, p2-3) := true\n",
      "  path(p3-2, p2-2) := true\n",
      "  path(p2-2, p3-2) := true\n",
      "  path(p2-4, p2-3) := true\n",
      "  path(p2-3, p2-4) := true\n",
      "  path(p3-3, p2-3) := true\n",
      "  path(p2-3, p3-3) := true\n",
      "  path(p3-4, p2-4) := true\n",
      "  path(p2-4, p3-4) := true\n",
      "  path(p3-1, p3-0) := true\n",
      "  path(p3-0, p3-1) := true\n",
      "  path(p4-0, p3-0) := true\n",
      "  path(p3-0, p4-0) := true\n",
      "  path(p3-2, p3-1) := true\n",
      "  path(p3-1, p3-2) := true\n",
      "  path(p4-1, p3-1) := true\n",
      "  path(p3-1, p4-1) := true\n",
      "  path(p3-3, p3-2) := true\n",
      "  path(p3-2, p3-3) := true\n",
      "  path(p4-2, p3-2) := true\n",
      "  path(p3-2, p4-2) := true\n",
      "  path(p3-4, p3-3) := true\n",
      "  path(p3-3, p3-4) := true\n",
      "  path(p4-3, p3-3) := true\n",
      "  path(p3-3, p4-3) := true\n",
      "  path(p4-4, p3-4) := true\n",
      "  path(p3-4, p4-4) := true\n",
      "  path(p4-1, p4-0) := true\n",
      "  path(p4-0, p4-1) := true\n",
      "  path(p4-2, p4-1) := true\n",
      "  path(p4-1, p4-2) := true\n",
      "  path(p4-3, p4-2) := true\n",
      "  path(p4-2, p4-3) := true\n",
      "  path(p4-4, p4-3) := true\n",
      "  path(p4-3, p4-4) := true\n",
      "  head-at(p1-1) := true\n",
      "  tail-at(p1-2) := true\n",
      "  body-con(p1-1, p1-2) := true\n",
      "  blocked(p1-1) := true\n",
      "  blocked(p1-2) := true\n",
      "  apple-at(p3-0) := true\n",
      "  spawn-apple(p0-0) := true\n",
      "  next-apple(p0-0, p4-2) := true\n",
      "  next-apple(p4-2, p3-4) := true\n",
      "  next-apple(p3-4, p2-2) := true\n",
      "  next-apple(p2-2, dummypoint) := true\n",
      "]\n",
      "\n",
      "goals = [\n",
      "  (not apple-at(p3-0))\n",
      "  (not apple-at(p0-0))\n",
      "  (not apple-at(p4-2))\n",
      "  (not apple-at(p3-4))\n",
      "  (not apple-at(p2-2))\n",
      "]\n"
     ]
    }
   ],
   "source": [
    "snake_generator.display_problems()\n",
    "snake_generator.save_as_pddl() #TODO: FIX (not creating file)"
   ],
   "metadata": {
    "collapsed": false,
    "ExecuteTime": {
     "end_time": "2024-04-03T00:53:15.061828Z",
     "start_time": "2024-04-03T00:53:14.962302Z"
    }
   },
   "id": "e811f1adf81d31da",
   "execution_count": 7
  },
  {
   "cell_type": "code",
   "outputs": [
    {
     "name": "stdout",
     "output_type": "stream",
     "text": [
      "Plan 1:\n",
      "Status: PlanGenerationResultStatus.SOLVED_SATISFICING\n",
      "Found plan with 20 steps!\n",
      "0: move(p1-1, p2-1, p1-2, p1-1)\n",
      "1: move(p2-1, p2-0, p1-1, p2-1)\n",
      "2: move-and-eat(p2-0, p3-0, p0-0, p4-2)\n",
      "3: move(p3-0, p3-1, p2-1, p2-0)\n",
      "4: move(p3-1, p2-1, p2-0, p3-0)\n",
      "5: move(p2-1, p1-1, p3-0, p3-1)\n",
      "6: move(p1-1, p0-1, p3-1, p2-1)\n",
      "7: move-and-eat(p0-1, p0-0, p4-2, p3-4)\n",
      "8: move(p0-0, p1-0, p2-1, p1-1)\n",
      "9: move(p1-0, p2-0, p1-1, p0-1)\n",
      "10: move(p2-0, p2-1, p0-1, p0-0)\n",
      "11: move(p2-1, p3-1, p0-0, p1-0)\n",
      "12: move(p3-1, p4-1, p1-0, p2-0)\n",
      "13: move-and-eat(p4-1, p4-2, p3-4, p2-2)\n",
      "14: move(p4-2, p4-3, p2-0, p2-1)\n",
      "15: move(p4-3, p4-4, p2-1, p3-1)\n",
      "16: move-and-eat(p4-4, p3-4, p2-2, dummypoint)\n",
      "17: move(p3-4, p3-3, p3-1, p4-1)\n",
      "18: move(p3-3, p3-2, p4-1, p4-2)\n",
      "19: move-and-eat-no-spawn(p3-2, p2-2)\n"
     ]
    },
    {
     "data": {
      "text/plain": "True"
     },
     "execution_count": 8,
     "metadata": {},
     "output_type": "execute_result"
    }
   ],
   "source": [
    "snake_generator.solve_each()"
   ],
   "metadata": {
    "collapsed": false,
    "ExecuteTime": {
     "end_time": "2024-04-03T00:53:17.138507Z",
     "start_time": "2024-04-03T00:53:15.063124Z"
    }
   },
   "id": "e49a2491be3c91c6",
   "execution_count": 8
  },
  {
   "cell_type": "code",
   "outputs": [
    {
     "name": "stdout",
     "output_type": "stream",
     "text": [
      "[DEBUG] flattened_maze environment generated successfully\n",
      "[DEBUG] problem added\n"
     ]
    },
    {
     "data": {
      "text/plain": "<Figure size 2000x1000 with 1 Axes>",
      "image/png": "[encoded data removed]"
     },
     "metadata": {},
     "output_type": "display_data"
    }
   ],
   "source": [
    "psp_generator = PartiallySolvedProblemGenerator(problem_count=1, auto=True)\n",
    "psp_generator.display_images()"
   ],
   "metadata": {
    "collapsed": false,
    "ExecuteTime": {
     "end_time": "2024-04-03T00:53:17.372893Z",
     "start_time": "2024-04-03T00:53:17.140124Z"
    }
   },
   "id": "eb38a164efff230",
   "execution_count": 9
  },
  {
   "cell_type": "code",
   "outputs": [
    {
     "name": "stdout",
     "output_type": "stream",
     "text": [
      "Problem 0:\n",
      "problem name = flattened_maze0\n",
      "\n",
      "types = [position]\n",
      "\n",
      "fluents = [\n",
      "  bool path[a=position, b=position]\n",
      "  bool at[x=position]\n",
      "]\n",
      "\n",
      "actions = [\n",
      "  action move(position x, position xn) {\n",
      "    preconditions = [\n",
      "      (at(x) and path(x, xn))\n",
      "    ]\n",
      "    effects = [\n",
      "      at(xn) := true\n",
      "      at(x) := false\n",
      "    ]\n",
      "  }\n",
      "]\n",
      "\n",
      "objects = [\n",
      "  position: [start, goal, l0, u1, d2, l3, u4, u5, u6, d7, d8, d9, l10, l11, r12, r13, r14, r9, l16, l8, r18, l20]\n",
      "]\n",
      "\n",
      "initial fluents default = [\n",
      "  bool path[a=position, b=position] := false\n",
      "  bool at[x=position] := false\n",
      "]\n",
      "\n",
      "initial values = [\n",
      "  at(start) := true\n",
      "  path(start, l0) := true\n",
      "  path(l0, u1) := true\n",
      "  path(u1, d2) := true\n",
      "  path(d2, u1) := true\n",
      "  path(d2, l3) := true\n",
      "  path(l3, u4) := true\n",
      "  path(u4, u5) := true\n",
      "  path(u5, u6) := true\n",
      "  path(u6, d7) := true\n",
      "  path(d7, u6) := true\n",
      "  path(d7, d8) := true\n",
      "  path(d8, u5) := true\n",
      "  path(d8, d9) := true\n",
      "  path(d9, u4) := true\n",
      "  path(d9, l10) := true\n",
      "  path(l10, l11) := true\n",
      "  path(l11, r12) := true\n",
      "  path(r12, l11) := true\n",
      "  path(r12, r13) := true\n",
      "  path(r13, u4) := true\n",
      "  path(r13, l10) := true\n",
      "  path(r13, r14) := true\n",
      "  path(r14, u1) := true\n",
      "  path(r14, l3) := true\n",
      "  path(r14, start) := true\n",
      "  path(l10, r13) := true\n",
      "  path(d9, r14) := true\n",
      "  path(d8, r9) := true\n",
      "  path(r9, d2) := true\n",
      "  path(r9, l16) := true\n",
      "  path(l16, u5) := true\n",
      "  path(l16, d9) := true\n",
      "  path(l16, r9) := true\n",
      "  path(d7, l8) := true\n",
      "  path(l8, r18) := true\n",
      "  path(r18, u6) := true\n",
      "  path(r18, d8) := true\n",
      "  path(r18, l8) := true\n",
      "  path(u6, goal) := true\n",
      "  path(goal, l20) := true\n",
      "  path(l20, d7) := true\n",
      "  path(l20, goal) := true\n",
      "  path(u5, d8) := true\n",
      "  path(u5, l8) := true\n",
      "  path(u4, d9) := true\n",
      "  path(u4, r9) := true\n",
      "  path(l3, l10) := true\n",
      "  path(l3, r14) := true\n",
      "  path(d2, start) := true\n",
      "  path(u1, l16) := true\n",
      "  path(l0, l3) := true\n",
      "  path(l0, start) := true\n",
      "]\n",
      "\n",
      "goals = [\n",
      "  at(goal)\n",
      "]\n",
      "\n",
      "\n",
      "Plan 1:\n",
      "Status: PlanGenerationResultStatus.SOLVED_SATISFICING\n",
      "Found plan with 6 steps!\n",
      "0: move(start, l0)\n",
      "1: move(l0, l3)\n",
      "2: move(l3, u4)\n",
      "3: move(u4, u5)\n",
      "4: move(u5, u6)\n",
      "5: move(u6, goal)\n"
     ]
    },
    {
     "data": {
      "text/plain": "True"
     },
     "execution_count": 10,
     "metadata": {},
     "output_type": "execute_result"
    }
   ],
   "source": [
    "psp_generator.display_problems()\n",
    "psp_generator.save_as_pddl()\n",
    "psp_generator.solve_each()"
   ],
   "metadata": {
    "collapsed": false,
    "ExecuteTime": {
     "end_time": "2024-04-03T00:53:17.534906Z",
     "start_time": "2024-04-03T00:53:17.374086Z"
    }
   },
   "id": "a8f2d76fdbdf0fe",
   "execution_count": 10
  }
 ],
 "metadata": {
  "kernelspec": {
   "display_name": "Python 3",
   "language": "python",
   "name": "python3"
  },
  "language_info": {
   "codemirror_mode": {
    "name": "ipython",
    "version": 2
   },
   "file_extension": ".py",
   "mimetype": "text/x-python",
   "name": "python",
   "nbconvert_exporter": "python",
   "pygments_lexer": "ipython2",
   "version": "2.7.6"
  }
 },
 "nbformat": 4,
 "nbformat_minor": 5
}
