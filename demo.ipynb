{
 "cells": [
  {
   "cell_type": "markdown",
   "source": [
    "# Third Year Project 2023-24 Experiments\n",
    "#### Murtaza Daudali"
   ],
   "metadata": {
    "collapsed": false
   },
   "id": "51c0905ff07bf662"
  },
  {
   "cell_type": "markdown",
   "source": [
    "## Set-up\n",
    "Before compiling this notebook, please ensure you have all pre-requisite packages installed, this can be done by running:\n",
    "\n",
    "`pip install -r requirements.txt`"
   ],
   "metadata": {
    "collapsed": false
   },
   "id": "e408c583e6463518"
  },
  {
   "cell_type": "code",
   "source": [
    "from generators import DirectionalProblemReducedMazeProblemGenerator, SnakeProblemGenerator, NonDirectionalProblemReducedMazeProblemGenerator\n",
    "%matplotlib inline"
   ],
   "metadata": {
    "collapsed": false,
    "ExecuteTime": {
     "end_time": "2024-04-09T01:13:31.118170Z",
     "start_time": "2024-04-09T01:13:30.287185Z"
    }
   },
   "id": "f5cef981657e4060",
   "outputs": [
    {
     "name": "stdout",
     "output_type": "stream",
     "text": [
      "pygame 2.5.2 (SDL 2.28.2, Python 3.11.6)\n",
      "Hello from the pygame community. https://www.pygame.org/contribute.html\n"
     ]
    }
   ],
   "execution_count": 1
  },
  {
   "cell_type": "code",
   "source": [
    "snake_generator = SnakeProblemGenerator(problem_count=1, auto=True)\n",
    "snake_generator.display_images()"
   ],
   "metadata": {
    "collapsed": false,
    "ExecuteTime": {
     "end_time": "2024-04-09T01:13:31.541264Z",
     "start_time": "2024-04-09T01:13:31.119321Z"
    }
   },
   "id": "592399e8aca5e099",
   "outputs": [
    {
     "name": "stdout",
     "output_type": "stream",
     "text": [
      "[DEBUG] snake environment generated successfully\n",
      "[DEBUG] problem added\n"
     ]
    },
    {
     "data": {
      "text/plain": [
       "<Figure size 2000x1000 with 1 Axes>"
      ],
      "image/png": "[encoded data removed]"
     },
     "metadata": {},
     "output_type": "display_data"
    }
   ],
   "execution_count": 2
  },
  {
   "cell_type": "code",
   "source": [
    "snake_generator.display_problems()\n",
    "# snake_generator.save_as_pddl() #TODO: FIX (not creating file)"
   ],
   "metadata": {
    "collapsed": false,
    "ExecuteTime": {
     "end_time": "2024-04-09T01:13:31.547075Z",
     "start_time": "2024-04-09T01:13:31.542197Z"
    }
   },
   "id": "e811f1adf81d31da",
   "outputs": [
    {
     "name": "stdout",
     "output_type": "stream",
     "text": [
      "Problem 0:\n",
      "problem name = snake0\n",
      "\n",
      "types = [position]\n",
      "\n",
      "fluents = [\n",
      "  bool path[x=position, y=position]\n",
      "  bool head-at[x=position]\n",
      "  bool tail-at[x=position]\n",
      "  bool body-con[x=position, y=position]\n",
      "  bool blocked[x=position]\n",
      "  bool apple-at[x=position]\n",
      "  bool spawn-apple[x=position]\n",
      "  bool next-apple[x=position, y=position]\n",
      "]\n",
      "\n",
      "actions = [\n",
      "  action move(position head, position newhead, position tail, position newtail) {\n",
      "    preconditions = [\n",
      "      (head-at(head) and path(head, newhead) and tail-at(tail) and body-con(newtail, tail) and (not blocked(newhead)) and (not apple-at(newhead)))\n",
      "    ]\n",
      "    effects = [\n",
      "      blocked(newhead) := true\n",
      "      head-at(newhead) := true\n",
      "      body-con(newhead, head) := true\n",
      "      head-at(head) := false\n",
      "      blocked(tail) := false\n",
      "      tail-at(tail) := false\n",
      "      body-con(newtail, tail) := false\n",
      "      tail-at(newtail) := true\n",
      "    ]\n",
      "  }\n",
      "  action move-and-eat(position head, position newhead, position spawn, position nextspawn) {\n",
      "    preconditions = [\n",
      "      (head-at(head) and path(head, newhead) and (not blocked(newhead)) and apple-at(newhead) and spawn-apple(spawn) and next-apple(spawn, nextspawn) and (not (spawn == dummypoint)))\n",
      "    ]\n",
      "    effects = [\n",
      "      blocked(newhead) := true\n",
      "      head-at(newhead) := true\n",
      "      body-con(newhead, head) := true\n",
      "      head-at(head) := false\n",
      "      apple-at(newhead) := false\n",
      "      apple-at(spawn) := true\n",
      "      spawn-apple(spawn) := false\n",
      "      spawn-apple(nextspawn) := true\n",
      "    ]\n",
      "  }\n",
      "  action move-and-eat-no-spawn(position head, position newhead) {\n",
      "    preconditions = [\n",
      "      (head-at(head) and path(head, newhead) and (not blocked(newhead)) and apple-at(newhead) and spawn-apple(dummypoint))\n",
      "    ]\n",
      "    effects = [\n",
      "      blocked(newhead) := true\n",
      "      head-at(newhead) := true\n",
      "      body-con(newhead, head) := true\n",
      "      head-at(head) := false\n",
      "      apple-at(newhead) := false\n",
      "    ]\n",
      "  }\n",
      "]\n",
      "\n",
      "objects = [\n",
      "  position: [dummypoint, p0-0, p0-1, p0-2, p0-3, p0-4, p1-0, p1-1, p1-2, p1-3, p1-4, p2-0, p2-1, p2-2, p2-3, p2-4, p3-0, p3-1, p3-2, p3-3, p3-4, p4-0, p4-1, p4-2, p4-3, p4-4]\n",
      "]\n",
      "\n",
      "initial fluents default = [\n",
      "  bool path[x=position, y=position] := false\n",
      "  bool head-at[x=position] := false\n",
      "  bool tail-at[x=position] := false\n",
      "  bool body-con[x=position, y=position] := false\n",
      "  bool blocked[x=position] := false\n",
      "  bool apple-at[x=position] := false\n",
      "  bool spawn-apple[x=position] := false\n",
      "  bool next-apple[x=position, y=position] := false\n",
      "]\n",
      "\n",
      "initial values = [\n",
      "  path(p0-1, p0-0) := true\n",
      "  path(p0-0, p0-1) := true\n",
      "  path(p1-0, p0-0) := true\n",
      "  path(p0-0, p1-0) := true\n",
      "  path(p0-2, p0-1) := true\n",
      "  path(p0-1, p0-2) := true\n",
      "  path(p1-1, p0-1) := true\n",
      "  path(p0-1, p1-1) := true\n",
      "  path(p0-3, p0-2) := true\n",
      "  path(p0-2, p0-3) := true\n",
      "  path(p1-2, p0-2) := true\n",
      "  path(p0-2, p1-2) := true\n",
      "  path(p0-4, p0-3) := true\n",
      "  path(p0-3, p0-4) := true\n",
      "  path(p1-3, p0-3) := true\n",
      "  path(p0-3, p1-3) := true\n",
      "  path(p1-4, p0-4) := true\n",
      "  path(p0-4, p1-4) := true\n",
      "  path(p1-1, p1-0) := true\n",
      "  path(p1-0, p1-1) := true\n",
      "  path(p2-0, p1-0) := true\n",
      "  path(p1-0, p2-0) := true\n",
      "  path(p1-2, p1-1) := true\n",
      "  path(p1-1, p1-2) := true\n",
      "  path(p2-1, p1-1) := true\n",
      "  path(p1-1, p2-1) := true\n",
      "  path(p1-3, p1-2) := true\n",
      "  path(p1-2, p1-3) := true\n",
      "  path(p2-2, p1-2) := true\n",
      "  path(p1-2, p2-2) := true\n",
      "  path(p1-4, p1-3) := true\n",
      "  path(p1-3, p1-4) := true\n",
      "  path(p2-3, p1-3) := true\n",
      "  path(p1-3, p2-3) := true\n",
      "  path(p2-4, p1-4) := true\n",
      "  path(p1-4, p2-4) := true\n",
      "  path(p2-1, p2-0) := true\n",
      "  path(p2-0, p2-1) := true\n",
      "  path(p3-0, p2-0) := true\n",
      "  path(p2-0, p3-0) := true\n",
      "  path(p2-2, p2-1) := true\n",
      "  path(p2-1, p2-2) := true\n",
      "  path(p3-1, p2-1) := true\n",
      "  path(p2-1, p3-1) := true\n",
      "  path(p2-3, p2-2) := true\n",
      "  path(p2-2, p2-3) := true\n",
      "  path(p3-2, p2-2) := true\n",
      "  path(p2-2, p3-2) := true\n",
      "  path(p2-4, p2-3) := true\n",
      "  path(p2-3, p2-4) := true\n",
      "  path(p3-3, p2-3) := true\n",
      "  path(p2-3, p3-3) := true\n",
      "  path(p3-4, p2-4) := true\n",
      "  path(p2-4, p3-4) := true\n",
      "  path(p3-1, p3-0) := true\n",
      "  path(p3-0, p3-1) := true\n",
      "  path(p4-0, p3-0) := true\n",
      "  path(p3-0, p4-0) := true\n",
      "  path(p3-2, p3-1) := true\n",
      "  path(p3-1, p3-2) := true\n",
      "  path(p4-1, p3-1) := true\n",
      "  path(p3-1, p4-1) := true\n",
      "  path(p3-3, p3-2) := true\n",
      "  path(p3-2, p3-3) := true\n",
      "  path(p4-2, p3-2) := true\n",
      "  path(p3-2, p4-2) := true\n",
      "  path(p3-4, p3-3) := true\n",
      "  path(p3-3, p3-4) := true\n",
      "  path(p4-3, p3-3) := true\n",
      "  path(p3-3, p4-3) := true\n",
      "  path(p4-4, p3-4) := true\n",
      "  path(p3-4, p4-4) := true\n",
      "  path(p4-1, p4-0) := true\n",
      "  path(p4-0, p4-1) := true\n",
      "  path(p4-2, p4-1) := true\n",
      "  path(p4-1, p4-2) := true\n",
      "  path(p4-3, p4-2) := true\n",
      "  path(p4-2, p4-3) := true\n",
      "  path(p4-4, p4-3) := true\n",
      "  path(p4-3, p4-4) := true\n",
      "  head-at(p4-3) := true\n",
      "  tail-at(p4-4) := true\n",
      "  body-con(p4-3, p4-4) := true\n",
      "  blocked(p4-3) := true\n",
      "  blocked(p4-4) := true\n",
      "  apple-at(p0-0) := true\n",
      "  spawn-apple(p2-1) := true\n",
      "  next-apple(p2-1, p4-0) := true\n",
      "  next-apple(p4-0, p0-1) := true\n",
      "  next-apple(p0-1, p1-3) := true\n",
      "  next-apple(p1-3, dummypoint) := true\n",
      "]\n",
      "\n",
      "goals = [\n",
      "  (not apple-at(p0-0))\n",
      "  (not apple-at(p2-1))\n",
      "  (not apple-at(p4-0))\n",
      "  (not apple-at(p0-1))\n",
      "  (not apple-at(p1-3))\n",
      "]\n",
      "\n",
      "\n"
     ]
    }
   ],
   "execution_count": 3
  },
  {
   "cell_type": "code",
   "source": "snake_generator.solve_each();",
   "metadata": {
    "collapsed": false,
    "ExecuteTime": {
     "end_time": "2024-04-09T01:13:33.616712Z",
     "start_time": "2024-04-09T01:13:31.549052Z"
    }
   },
   "id": "e49a2491be3c91c6",
   "outputs": [
    {
     "name": "stdout",
     "output_type": "stream",
     "text": [
      "Plan 1:\n",
      "Status: PlanGenerationResultStatus.SOLVED_SATISFICING\n",
      "Found plan with 21 steps!\n",
      "0: move(p4-3, p4-2, p4-4, p4-3)\n",
      "1: move(p4-2, p3-2, p4-3, p4-2)\n",
      "2: move(p3-2, p2-2, p4-2, p3-2)\n",
      "3: move(p2-2, p1-2, p3-2, p2-2)\n",
      "4: move(p1-2, p1-1, p2-2, p1-2)\n",
      "5: move(p1-1, p1-0, p1-2, p1-1)\n",
      "6: move-and-eat(p1-0, p0-0, p2-1, p4-0)\n",
      "7: move(p0-0, p0-1, p1-1, p1-0)\n",
      "8: move(p0-1, p1-1, p1-0, p0-0)\n",
      "9: move-and-eat(p1-1, p2-1, p4-0, p0-1)\n",
      "10: move(p2-1, p2-0, p0-0, p0-1)\n",
      "11: move(p2-0, p3-0, p0-1, p1-1)\n",
      "12: move-and-eat(p3-0, p4-0, p0-1, p1-3)\n",
      "13: move(p4-0, p4-1, p1-1, p2-1)\n",
      "14: move(p4-1, p3-1, p2-1, p2-0)\n",
      "15: move(p3-1, p2-1, p2-0, p3-0)\n",
      "16: move(p2-1, p1-1, p3-0, p4-0)\n",
      "17: move-and-eat(p1-1, p0-1, p1-3, dummypoint)\n",
      "18: move(p0-1, p0-2, p4-0, p4-1)\n",
      "19: move(p0-2, p1-2, p4-1, p3-1)\n",
      "20: move-and-eat-no-spawn(p1-2, p1-3)\n",
      "\n"
     ]
    }
   ],
   "execution_count": 4
  },
  {
   "cell_type": "code",
   "source": [
    "psp_generator = DirectionalProblemReducedMazeProblemGenerator(problem_count=1, auto=True)\n",
    "psp_generator.display_images()"
   ],
   "metadata": {
    "collapsed": false,
    "ExecuteTime": {
     "end_time": "2024-04-09T01:13:34.019489Z",
     "start_time": "2024-04-09T01:13:33.617823Z"
    }
   },
   "id": "eb38a164efff230",
   "outputs": [
    {
     "name": "stdout",
     "output_type": "stream",
     "text": [
      "[DEBUG] reduced_maze environment generated successfully\n",
      "[DEBUG] problem added\n"
     ]
    },
    {
     "data": {
      "text/plain": [
       "<Figure size 2000x1000 with 1 Axes>"
      ],
      "image/png": "[encoded data removed]"
     },
     "metadata": {},
     "output_type": "display_data"
    }
   ],
   "execution_count": 5
  },
  {
   "cell_type": "code",
   "source": [
    "psp_generator.display_problems()\n",
    "psp_generator.solve_all();"
   ],
   "metadata": {
    "collapsed": false,
    "ExecuteTime": {
     "end_time": "2024-04-09T01:13:37.455356Z",
     "start_time": "2024-04-09T01:13:34.020634Z"
    }
   },
   "id": "a8f2d76fdbdf0fe",
   "outputs": [
    {
     "name": "stdout",
     "output_type": "stream",
     "text": [
      "Problem 0:\n",
      "problem name = reduced_maze0\n",
      "\n",
      "types = [position]\n",
      "\n",
      "fluents = [\n",
      "  bool path[a=position, b=position]\n",
      "  bool at[x=position]\n",
      "]\n",
      "\n",
      "actions = [\n",
      "  action move(position x, position xn) {\n",
      "    preconditions = [\n",
      "      (at(x) and path(x, xn))\n",
      "    ]\n",
      "    effects = [\n",
      "      at(xn) := true\n",
      "      at(x) := false\n",
      "    ]\n",
      "  }\n",
      "]\n",
      "\n",
      "objects = [\n",
      "  position: [start, goal, u0, l1, u2, u3, u4, d5, d6, d7, d8, u9, l10, u11, u12, d14, d15, d16, d17, u18, r19, r20, r21, u22, u23, u24, d25, d26, d27, d28, u29, l30, r30, u32, u33, u34, d35, d36, d37, d38, u39, l40, l39, r42, l37, r44, l36, r46, l35, l48, l49, r50, r51, r52, r18, l54, r16, l56, r15, l58, r14, l0, r0]\n",
      "]\n",
      "\n",
      "initial fluents default = [\n",
      "  bool path[a=position, b=position] := false\n",
      "  bool at[x=position] := false\n",
      "]\n",
      "\n",
      "initial values = [\n",
      "  at(start) := true\n",
      "  path(start, u0) := true\n",
      "  path(u0, start) := true\n",
      "  path(u0, l1) := true\n",
      "  path(l1, u2) := true\n",
      "  path(u2, u3) := true\n",
      "  path(u3, u4) := true\n",
      "  path(u4, d5) := true\n",
      "  path(d5, u4) := true\n",
      "  path(d5, d6) := true\n",
      "  path(d6, u3) := true\n",
      "  path(d6, d7) := true\n",
      "  path(d7, u2) := true\n",
      "  path(d7, d8) := true\n",
      "  path(d8, u9) := true\n",
      "  path(u9, u2) := true\n",
      "  path(u9, d8) := true\n",
      "  path(u9, l10) := true\n",
      "  path(l10, u11) := true\n",
      "  path(u11, u12) := true\n",
      "  path(u12, goal) := true\n",
      "  path(goal, d14) := true\n",
      "  path(d14, goal) := true\n",
      "  path(d14, d15) := true\n",
      "  path(d15, u12) := true\n",
      "  path(d15, d16) := true\n",
      "  path(d16, u11) := true\n",
      "  path(d16, d17) := true\n",
      "  path(d17, u18) := true\n",
      "  path(u18, u11) := true\n",
      "  path(u18, d17) := true\n",
      "  path(u18, r19) := true\n",
      "  path(r19, u2) := true\n",
      "  path(r19, d8) := true\n",
      "  path(r19, l10) := true\n",
      "  path(r19, r20) := true\n",
      "  path(r20, start) := true\n",
      "  path(r20, l1) := true\n",
      "  path(r20, r21) := true\n",
      "  path(r21, u22) := true\n",
      "  path(u22, u23) := true\n",
      "  path(u23, u24) := true\n",
      "  path(u24, d25) := true\n",
      "  path(d25, u24) := true\n",
      "  path(d25, d26) := true\n",
      "  path(d26, u23) := true\n",
      "  path(d26, d27) := true\n",
      "  path(d27, u22) := true\n",
      "  path(d27, d28) := true\n",
      "  path(d28, u29) := true\n",
      "  path(u29, u22) := true\n",
      "  path(u29, d28) := true\n",
      "  path(u29, l30) := true\n",
      "  path(l30, start) := true\n",
      "  path(l30, l1) := true\n",
      "  path(l30, r21) := true\n",
      "  path(u29, r30) := true\n",
      "  path(r30, u32) := true\n",
      "  path(u32, u33) := true\n",
      "  path(u33, u34) := true\n",
      "  path(u34, d35) := true\n",
      "  path(d35, u34) := true\n",
      "  path(d35, d36) := true\n",
      "  path(d36, u33) := true\n",
      "  path(d36, d37) := true\n",
      "  path(d37, u32) := true\n",
      "  path(d37, d38) := true\n",
      "  path(d38, u39) := true\n",
      "  path(u39, u32) := true\n",
      "  path(u39, d38) := true\n",
      "  path(u39, l40) := true\n",
      "  path(l40, u22) := true\n",
      "  path(l40, d28) := true\n",
      "  path(l40, l30) := true\n",
      "  path(l40, r30) := true\n",
      "  path(d38, l39) := true\n",
      "  path(l39, u29) := true\n",
      "  path(l39, start) := true\n",
      "  path(l39, r42) := true\n",
      "  path(r42, u39) := true\n",
      "  path(r42, l39) := true\n",
      "  path(d37, l40) := true\n",
      "  path(d36, l37) := true\n",
      "  path(l37, u23) := true\n",
      "  path(l37, d27) := true\n",
      "  path(l37, r44) := true\n",
      "  path(r44, u33) := true\n",
      "  path(r44, d37) := true\n",
      "  path(r44, l37) := true\n",
      "  path(d35, l36) := true\n",
      "  path(l36, u24) := true\n",
      "  path(l36, d26) := true\n",
      "  path(l36, r46) := true\n",
      "  path(r46, u34) := true\n",
      "  path(r46, d36) := true\n",
      "  path(r46, l36) := true\n",
      "  path(u34, l35) := true\n",
      "  path(l35, d25) := true\n",
      "  path(l35, l48) := true\n",
      "  path(l48, l49) := true\n",
      "  path(l49, d5) := true\n",
      "  path(l49, goal) := true\n",
      "  path(l49, r50) := true\n",
      "  path(r50, l49) := true\n",
      "  path(r50, r51) := true\n",
      "  path(r51, d25) := true\n",
      "  path(r51, l48) := true\n",
      "  path(r51, r52) := true\n",
      "  path(r52, d35) := true\n",
      "  path(r52, l35) := true\n",
      "  path(l48, r51) := true\n",
      "  path(l35, r52) := true\n",
      "  path(u33, d36) := true\n",
      "  path(u33, l36) := true\n",
      "  path(u32, d37) := true\n",
      "  path(u32, l37) := true\n",
      "  path(r30, d38) := true\n",
      "  path(r30, l40) := true\n",
      "  path(d28, start) := true\n",
      "  path(d28, r42) := true\n",
      "  path(d27, l30) := true\n",
      "  path(d27, r30) := true\n",
      "  path(d26, r44) := true\n",
      "  path(d25, r46) := true\n",
      "  path(u24, l48) := true\n",
      "  path(u24, r52) := true\n",
      "  path(u23, d26) := true\n",
      "  path(u23, r46) := true\n",
      "  path(u22, d27) := true\n",
      "  path(u22, r44) := true\n",
      "  path(r21, d28) := true\n",
      "  path(r21, l30) := true\n",
      "  path(r21, r30) := true\n",
      "  path(d17, r18) := true\n",
      "  path(r18, u9) := true\n",
      "  path(r18, l54) := true\n",
      "  path(l54, u18) := true\n",
      "  path(l54, r18) := true\n",
      "  path(r18, start) := true\n",
      "  path(d16, r19) := true\n",
      "  path(d15, r16) := true\n",
      "  path(r16, u3) := true\n",
      "  path(r16, d7) := true\n",
      "  path(r16, l56) := true\n",
      "  path(l56, u12) := true\n",
      "  path(l56, d16) := true\n",
      "  path(l56, r16) := true\n",
      "  path(d14, r15) := true\n",
      "  path(r15, u4) := true\n",
      "  path(r15, d6) := true\n",
      "  path(r15, l58) := true\n",
      "  path(l58, goal) := true\n",
      "  path(l58, d15) := true\n",
      "  path(l58, r15) := true\n",
      "  path(goal, r14) := true\n",
      "  path(r14, d5) := true\n",
      "  path(r14, goal) := true\n",
      "  path(r14, r50) := true\n",
      "  path(u12, d15) := true\n",
      "  path(u12, r15) := true\n",
      "  path(u11, d16) := true\n",
      "  path(u11, r16) := true\n",
      "  path(l10, d17) := true\n",
      "  path(l10, r19) := true\n",
      "  path(u9, r20) := true\n",
      "  path(d8, l54) := true\n",
      "  path(d8, start) := true\n",
      "  path(d7, l10) := true\n",
      "  path(d7, r20) := true\n",
      "  path(d6, l56) := true\n",
      "  path(d5, l58) := true\n",
      "  path(u4, goal) := true\n",
      "  path(u4, r50) := true\n",
      "  path(u3, d6) := true\n",
      "  path(u3, l58) := true\n",
      "  path(u2, d7) := true\n",
      "  path(u2, l56) := true\n",
      "  path(l1, d8) := true\n",
      "  path(l1, l10) := true\n",
      "  path(l1, r20) := true\n",
      "  path(u0, r21) := true\n",
      "  path(start, l0) := true\n",
      "  path(l0, u9) := true\n",
      "  path(l0, l54) := true\n",
      "  path(l0, start) := true\n",
      "  path(start, r0) := true\n",
      "  path(r0, u29) := true\n",
      "  path(r0, start) := true\n",
      "  path(r0, r42) := true\n",
      "]\n",
      "\n",
      "goals = [\n",
      "  at(goal)\n",
      "]\n",
      "\n",
      "\n",
      "/home/murumu1/.local/lib/python3.11/site-packages/up_bfgp/bfgp_pp/main.bin -m synthesis -t cpp -f ../plan_temp/ -s 0 -l 10 -o ../plan_temp//dk -pgp True\n",
      "[INFO] Parsed domain. [0.000s]\n",
      "[INFO] Building theory: cpp\n",
      "[INFO] Generalized Domain created. [0.000s]\n",
      "[INFO] Infinite detection: deactivated\n",
      "[INFO] Generalized Planning Problem created. [0.000s]\n",
      "[INFO] Evaluation function ed added.\n",
      "[INFO] Evaluation function ilc added.\n",
      "[INFO] Engine created. [0.000s]\n",
      "[INFO] Searching...\n",
      "[ENGINE]\n",
      "Node id=0\n",
      "Expanded=1\n",
      "Evaluated=1\n",
      "Open queue size=0\n",
      "[NODE]: f1=1 f2=0\n",
      "0. empty\n",
      "1. empty\n",
      "2. empty\n",
      "3. empty\n",
      "4. empty\n",
      "5. empty\n",
      "6. empty\n",
      "7. empty\n",
      "8. empty\n",
      "9. end\n",
      "\n",
      "[ENGINE]\n",
      "Node id=1\n",
      "Expanded=2\n",
      "Evaluated=44\n",
      "Open queue size=42\n",
      "[NODE]: f1=1 f2=-1\n",
      "0. for(ptr_position_0++,8)\n",
      "1. empty\n",
      "2. empty\n",
      "3. empty\n",
      "4. empty\n",
      "5. empty\n",
      "6. empty\n",
      "7. empty\n",
      "8. endfor(ptr_position_0++,0)\n",
      "9. end\n",
      "\n",
      "[ENGINE]\n",
      "Node id=44\n",
      "Expanded=3\n",
      "Evaluated=66\n",
      "Open queue size=63\n",
      "[NODE]: f1=1 f2=-2\n",
      "0. for(ptr_position_0++,8)\n",
      "1. for(ptr_position_1++,7)\n",
      "2. empty\n",
      "3. empty\n",
      "4. empty\n",
      "5. empty\n",
      "6. empty\n",
      "7. endfor(ptr_position_1++,1)\n",
      "8. endfor(ptr_position_0++,0)\n",
      "9. end\n",
      "\n",
      "[ENGINE]\n",
      "Node id=294\n",
      "Expanded=43\n",
      "Evaluated=310\n",
      "Open queue size=267\n",
      "[NODE]: f1=1 f2=-3\n",
      "0. for(ptr_position_0++,8)\n",
      "1. for(ptr_position_1++,3)\n",
      "2. move(ptr_position_0,ptr_position_1)\n",
      "3. endfor(ptr_position_1++,1)\n",
      "4. for(ptr_position_1++,7)\n",
      "5. empty\n",
      "6. empty\n",
      "7. endfor(ptr_position_1++,4)\n",
      "8. endfor(ptr_position_0++,0)\n",
      "9. end\n",
      "\n",
      "[INFO] Solution candidate!\n",
      "[NODE]: f1=0 f2=-3\n",
      "0. for(ptr_position_0++,8)\n",
      "1. for(ptr_position_1++,3)\n",
      "2. move(ptr_position_1,ptr_position_0)\n",
      "3. endfor(ptr_position_1++,1)\n",
      "4. move(ptr_position_0,ptr_position_1)\n",
      "5. for(ptr_position_1++,7)\n",
      "6. move(ptr_position_0,ptr_position_1)\n",
      "7. endfor(ptr_position_1++,5)\n",
      "8. endfor(ptr_position_0++,0)\n",
      "9. end\n",
      "[INFO] SOLUTION FOUND!!!\n",
      "0. for(ptr_position_0++,8)\n",
      "1. for(ptr_position_1++,3)\n",
      "2. move(ptr_position_1,ptr_position_0)\n",
      "3. endfor(ptr_position_1++,1)\n",
      "4. move(ptr_position_0,ptr_position_1)\n",
      "5. for(ptr_position_1++,7)\n",
      "6. move(ptr_position_0,ptr_position_1)\n",
      "7. endfor(ptr_position_1++,5)\n",
      "8. endfor(ptr_position_0++,0)\n",
      "9. end\n",
      "\n",
      "[INFO] Number of instances: 1\n",
      "[INFO] Expanded: 314\n",
      "[INFO] Evaluated: 1325\n",
      "[INFO] Total plan costs: 12\n",
      "[INFO] Total number of instructions: 16129\n",
      "[INFO] Search time: [2.665s]\n",
      "[INFO] Total time: [2.665s]\n",
      "[INFO] Program file: ../plan_temp//dk.prog\n",
      "[INFO] Experiments file: ../plan_temp//dk.out\n",
      "/home/murumu1/.local/lib/python3.11/site-packages/up_bfgp/bfgp_pp/main.bin -m validation-prog -t cpp -f ../plan_temp/ -s 0 -p ../plan_temp//dk.prog  -o ../plan_temp/  -plans True\n",
      "[INFO] Parsed domain. [0.000s]\n",
      "[INFO] Building theory: cpp\n",
      "[INFO] Generalized Domain created. [0.000s]\n",
      "[INFO] Infinite detection: deactivated\n",
      "[INFO] Generalized Planning Problem created. [0.000s]\n",
      "[INFO] Program loaded: [0.000s]\n",
      "[INFO] Read program:\n",
      "0. for(ptr_position_0++,8)\n",
      "1. for(ptr_position_1++,3)\n",
      "2. move(ptr_position_1,ptr_position_0)\n",
      "3. endfor(ptr_position_1++,1)\n",
      "4. move(ptr_position_0,ptr_position_1)\n",
      "5. for(ptr_position_1++,7)\n",
      "6. move(ptr_position_0,ptr_position_1)\n",
      "7. endfor(ptr_position_1++,5)\n",
      "8. endfor(ptr_position_0++,0)\n",
      "9. end\n",
      "\n",
      "[INFO] Number of instances: 1\n",
      "[INFO] GOAL ACHIEVED!\n",
      "[INFO] Total time: [0.008s]\n",
      "Plan found successfully\n"
     ]
    }
   ],
   "execution_count": 6
  },
  {
   "cell_type": "markdown",
   "source": [
    "### Multiple problems using Generalised Planning"
   ],
   "metadata": {
    "collapsed": false
   },
   "id": "65b63706cb674e6b"
  },
  {
   "cell_type": "code",
   "source": [
    "snake_generator = SnakeProblemGenerator(problem_count=1, auto=True)\n",
    "snake_generator.display_images()\n",
    "snake_generator.solve_each();"
   ],
   "metadata": {
    "collapsed": false,
    "ExecuteTime": {
     "end_time": "2024-04-09T01:13:39.653012Z",
     "start_time": "2024-04-09T01:13:37.456376Z"
    }
   },
   "id": "26095d65fc3dc866",
   "outputs": [
    {
     "name": "stdout",
     "output_type": "stream",
     "text": [
      "[DEBUG] snake environment generated successfully\n",
      "[DEBUG] problem added\n",
      "Plan 1:\n",
      "Status: PlanGenerationResultStatus.SOLVED_SATISFICING\n",
      "Found plan with 16 steps!\n",
      "0: move(p3-1, p2-1, p3-2, p3-1)\n",
      "1: move(p2-1, p2-2, p3-1, p2-1)\n",
      "2: move(p2-2, p2-3, p2-1, p2-2)\n",
      "3: move-and-eat(p2-3, p3-3, p4-1, p1-4)\n",
      "4: move(p3-3, p3-2, p2-2, p2-3)\n",
      "5: move(p3-2, p4-2, p2-3, p3-3)\n",
      "6: move-and-eat(p4-2, p4-1, p1-4, p3-4)\n",
      "7: move(p4-1, p3-1, p3-3, p3-2)\n",
      "8: move(p3-1, p2-1, p3-2, p4-2)\n",
      "9: move(p2-1, p2-2, p4-2, p4-1)\n",
      "10: move(p2-2, p2-3, p4-1, p3-1)\n",
      "11: move(p2-3, p1-3, p3-1, p2-1)\n",
      "12: move-and-eat(p1-3, p1-4, p3-4, p4-4)\n",
      "13: move(p1-4, p2-4, p2-1, p2-2)\n",
      "14: move-and-eat(p2-4, p3-4, p4-4, dummypoint)\n",
      "15: move-and-eat-no-spawn(p3-4, p4-4)\n",
      "\n"
     ]
    },
    {
     "data": {
      "text/plain": [
       "[PlanGenerationResult(status=<PlanGenerationResultStatus.SOLVED_SATISFICING: 1>, plan=SequentialPlan([move(p3-1, p2-1, p3-2, p3-1), move(p2-1, p2-2, p3-1, p2-1), move(p2-2, p2-3, p2-1, p2-2), move-and-eat(p2-3, p3-3, p4-1, p1-4), move(p3-3, p3-2, p2-2, p2-3), move(p3-2, p4-2, p2-3, p3-3), move-and-eat(p4-2, p4-1, p1-4, p3-4), move(p4-1, p3-1, p3-3, p3-2), move(p3-1, p2-1, p3-2, p4-2), move(p2-1, p2-2, p4-2, p4-1), move(p2-2, p2-3, p4-1, p3-1), move(p2-3, p1-3, p3-1, p2-1), move-and-eat(p1-3, p1-4, p3-4, p4-4), move(p1-4, p2-4, p2-1, p2-2), move-and-eat(p2-4, p3-4, p4-4, dummypoint), move-and-eat-no-spawn(p3-4, p4-4)]), engine_name='Fast Downward', metrics={'engine_internal_time': '1.681192398071289'}, log_messages=[LogMessage(level=<LogLevel.INFO: 2>, message=\"INFO     planner time limit: None\\nINFO     planner memory limit: None\\n\\nINFO     Running translator.\\nINFO     translator stdin: None\\nINFO     translator time limit: None\\nINFO     translator memory limit: None\\nINFO     translator command line string: /usr/bin/python3.11 /home/murumu1/.local/lib/python3.11/site-packages/up_fast_downward/downward/builds/release/bin/translate/translate.py /tmp/tmpgjsp4v7z/domain.pddl /tmp/tmpgjsp4v7z/problem.pddl --sas-file output.sas\\nParsing...\\nParsing: [0.010s CPU, 0.001s wall-clock]\\nNormalizing task... [0.000s CPU, 0.000s wall-clock]\\nInstantiating...\\nGenerating Datalog program... [0.000s CPU, 0.000s wall-clock]\\nNormalizing Datalog program...\\nTrivial rules: Converted to facts.\\nNormalizing Datalog program: [0.000s CPU, 0.001s wall-clock]\\nPreparing model... [0.000s CPU, 0.001s wall-clock]\\nGenerated 32 rules.\\nComputing model... [0.050s CPU, 0.058s wall-clock]\\n6803 relevant atoms\\n633 auxiliary atoms\\n7436 final queue length\\n33223 total queue pushes\\nCompleting instantiation... [0.230s CPU, 0.222s wall-clock]\\nInstantiating: [0.280s CPU, 0.284s wall-clock]\\nComputing fact groups...\\nFinding invariants...\\n13 initial candidates\\nFinding invariants: [0.000s CPU, 0.002s wall-clock]\\nChecking invariant weight... [0.000s CPU, 0.000s wall-clock]\\nInstantiating groups... [0.000s CPU, 0.000s wall-clock]\\nCollecting mutex groups... [0.000s CPU, 0.000s wall-clock]\\nChoosing groups...\\n105 uncovered facts\\nChoosing groups: [0.000s CPU, 0.000s wall-clock]\\nBuilding translation key... [0.000s CPU, 0.000s wall-clock]\\nComputing fact groups: [0.000s CPU, 0.003s wall-clock]\\nBuilding STRIPS to SAS dictionary... [0.000s CPU, 0.000s wall-clock]\\nBuilding dictionary for full mutex groups... [0.000s CPU, 0.000s wall-clock]\\nBuilding mutex information...\\nBuilding mutex information: [0.000s CPU, 0.000s wall-clock]\\nTranslating task...\\nProcessing axioms...\\nSimplifying axioms... [0.000s CPU, 0.000s wall-clock]\\nTranslator axioms removed by simplifying: 0\\nComputing negative axioms... [0.000s CPU, 0.000s wall-clock]\\nProcessing axioms: [0.010s CPU, 0.012s wall-clock]\\nTranslating task: [0.480s CPU, 0.490s wall-clock]\\n21804 effect conditions simplified\\n0 implied preconditions added\\nDetecting unreachable propositions...\\n0 operators removed\\n0 axioms removed\\n3 propositions removed\\nDetecting unreachable propositions: [0.300s CPU, 0.303s wall-clock]\\nReordering and filtering variables...\\n109 of 109 variables necessary.\\n0 of 4 mutex groups necessary.\\n11275 of 11275 operators necessary.\\n0 of 0 axiom rules necessary.\\nReordering and filtering variables: [0.120s CPU, 0.122s wall-clock]\\nTranslator variables: 109\\nTranslator derived variables: 0\\nTranslator facts: 271\\nTranslator goal facts: 1\\nTranslator mutex groups: 0\\nTranslator total mutex groups size: 0\\nTranslator operators: 11275\\nTranslator axioms: 0\\nTranslator task size: 129569\\nTranslator peak memory: 302800 KB\\nWriting output... [0.090s CPU, 0.096s wall-clock]\\nDone! [1.300s CPU, 1.315s wall-clock]\\ntranslate exit code: 0\\n\\nINFO     Running search (release).\\nINFO     search stdin: output.sas\\nINFO     search time limit: None\\nINFO     search memory limit: None\\nINFO     search command line string: /home/murumu1/.local/lib/python3.11/site-packages/up_fast_downward/downward/builds/release/bin/downward --search 'let(hlm,landmark_sum(lm_factory=lm_reasonable_orders_hps(lm_rhw()),transform=adapt_costs(one),pref=false),let(hff,ff(transform=adapt_costs(one)),lazy_greedy([hff,hlm],preferred=[hff,hlm],cost_type=one,reopen_closed=false)))' --internal-plan-file /tmp/tmpgjsp4v7z/plan.txt < output.sas\\n[t=0.00100917s, 10628 KB] reading input...\\n[t=0.0471064s, 15252 KB] done reading input!\\n[t=0.048649s, 15652 KB] Initializing landmark sum heuristic...\\n[t=0.0487355s, 15652 KB] Generating landmark graph...\\n[t=0.0493873s, 15908 KB] Building a landmark graph with reasonable orders.\\n[t=0.0500636s, 16304 KB] Initializing Exploration...\\n[t=0.056791s, 21348 KB] Generating landmarks using the RPG/SAS+ approach\\n[t=0.0870062s, 21348 KB] Removed 0 reasonable or obedient reasonable orders\\n[t=0.0873053s, 21348 KB] Landmarks generation time: 0.0379183s\\n[t=0.0873307s, 21348 KB] Discovered 9 landmarks, of which 1 are disjunctive and 0 are conjunctive.\\n[t=0.0873442s, 21348 KB] 18 edges\\n[t=0.0873582s, 21348 KB] approx. reasonable orders\\n[t=0.0873978s, 21348 KB] approx. obedient reasonable orders\\n[t=0.0874188s, 21348 KB] Removed 0 reasonable or obedient reasonable orders\\n[t=0.0874299s, 21348 KB] Landmarks generation time: 0.0386917s\\n[t=0.0874405s, 21348 KB] Discovered 9 landmarks, of which 1 are disjunctive and 0 are conjunctive.\\n[t=0.0874515s, 21348 KB] 18 edges\\n[t=0.0874618s, 21348 KB] Landmark graph generation time: 0.038736s\\n[t=0.0874725s, 21348 KB] Landmark graph contains 9 landmarks, of which 1 are disjunctive and 0 are conjunctive.\\n[t=0.087483s, 21348 KB] Landmark graph contains 18 orderings.\\n[t=0.09324s, 23640 KB] Simplifying 66813 unary operators... done! [66813 unary operators]\\n[t=0.214895s, 26280 KB] time to simplify: 0.121718s\\n[t=0.215705s, 26280 KB] Initializing additive heuristic...\\n[t=0.215738s, 26280 KB] Initializing FF heuristic...\\n[t=0.215799s, 26280 KB] Building successor generator...done!\\n[t=0.218741s, 26280 KB] peak memory difference for successor generator creation: 0 KB\\n[t=0.218753s, 26280 KB] time for successor generation creation: 0.00290492s\\n[t=0.218816s, 26280 KB] Variables: 109\\n[t=0.218825s, 26280 KB] FactPairs: 271\\n[t=0.218834s, 26280 KB] Bytes per state: 16\\n[t=0.218881s, 26280 KB] Conducting lazy best first search, (real) bound = 2147483647\\n[t=0.218903s, 26280 KB] 3 initial landmarks, 1 goal landmarks\\n[t=0.219666s, 26280 KB] New best heuristic value for landmark_sum(lm_factory=lm_reasonable_orders_hps(lm_rhw()),transform=adapt_costs(one),pref=false): 6\\n[t=0.219687s, 26280 KB] New best heuristic value for ff(transform=adapt_costs(one)): 7\\n[t=0.219696s, 26280 KB] g=0, 1 evaluated, 0 expanded\\n[t=0.219714s, 26280 KB] Initial heuristic value for landmark_sum(lm_factory=lm_reasonable_orders_hps(lm_rhw()),transform=adapt_costs(one),pref=false): 6\\n[t=0.219723s, 26280 KB] Initial heuristic value for ff(transform=adapt_costs(one)): 7\\n[t=0.223382s, 26280 KB] New best heuristic value for landmark_sum(lm_factory=lm_reasonable_orders_hps(lm_rhw()),transform=adapt_costs(one),pref=false): 5\\n[t=0.223431s, 26280 KB] New best heuristic value for ff(transform=adapt_costs(one)): 5\\n[t=0.22344s, 26280 KB] g=3, 8 evaluated, 7 expanded\\n[t=0.223969s, 26280 KB] New best heuristic value for landmark_sum(lm_factory=lm_reasonable_orders_hps(lm_rhw()),transform=adapt_costs(one),pref=false): 4\\n[t=0.223987s, 26280 KB] g=4, 9 evaluated, 8 expanded\\n[t=0.224907s, 26280 KB] New best heuristic value for ff(transform=adapt_costs(one)): 4\\n[t=0.22493s, 26280 KB] g=6, 11 evaluated, 10 expanded\\n[t=0.225443s, 26280 KB] New best heuristic value for landmark_sum(lm_factory=lm_reasonable_orders_hps(lm_rhw()),transform=adapt_costs(one),pref=false): 3\\n[t=0.225462s, 26280 KB] g=7, 12 evaluated, 11 expanded\\n[t=0.228442s, 26280 KB] New best heuristic value for ff(transform=adapt_costs(one)): 3\\n[t=0.228471s, 26280 KB] g=12, 19 evaluated, 18 expanded\\n[t=0.229466s, 26280 KB] New best heuristic value for landmark_sum(lm_factory=lm_reasonable_orders_hps(lm_rhw()),transform=adapt_costs(one),pref=false): 2\\n[t=0.229486s, 26280 KB] g=13, 21 evaluated, 20 expanded\\n[t=0.231662s, 26280 KB] New best heuristic value for ff(transform=adapt_costs(one)): 2\\n[t=0.23169s, 26280 KB] g=14, 27 evaluated, 26 expanded\\n[t=0.232295s, 26280 KB] New best heuristic value for landmark_sum(lm_factory=lm_reasonable_orders_hps(lm_rhw()),transform=adapt_costs(one),pref=false): 1\\n[t=0.232312s, 26280 KB] New best heuristic value for ff(transform=adapt_costs(one)): 1\\n[t=0.232321s, 26280 KB] g=15, 29 evaluated, 28 expanded\\n[t=0.232413s, 26280 KB] Solution found!\\n[t=0.232427s, 26280 KB] Actual search time: 0.0135218s\\nmove p3_1 p2_1 p3_2 p3_1 (1)\\nmove p2_1 p2_2 p3_1 p2_1 (1)\\nmove p2_2 p2_3 p2_1 p2_2 (1)\\nmove_and_eat p2_3 p3_3 p4_1 p1_4 (1)\\nmove p3_3 p3_2 p2_2 p2_3 (1)\\nmove p3_2 p4_2 p2_3 p3_3 (1)\\nmove_and_eat p4_2 p4_1 p1_4 p3_4 (1)\\nmove p4_1 p3_1 p3_3 p3_2 (1)\\nmove p3_1 p2_1 p3_2 p4_2 (1)\\nmove p2_1 p2_2 p4_2 p4_1 (1)\\nmove p2_2 p2_3 p4_1 p3_1 (1)\\nmove p2_3 p1_3 p3_1 p2_1 (1)\\nmove_and_eat p1_3 p1_4 p3_4 p4_4 (1)\\nmove p1_4 p2_4 p2_1 p2_2 (1)\\nmove_and_eat p2_4 p3_4 p4_4 dummypoint (1)\\nmove_and_eat_no_spawn p3_4 p4_4 (1)\\n[t=0.232437s, 26280 KB] Plan length: 16 step(s).\\n[t=0.232437s, 26280 KB] Plan cost: 16\\n[t=0.232437s, 26280 KB] Expanded 29 state(s).\\n[t=0.232437s, 26280 KB] Reopened 0 state(s).\\n[t=0.232437s, 26280 KB] Evaluated 30 state(s).\\n[t=0.232437s, 26280 KB] Evaluations: 60\\n[t=0.232437s, 26280 KB] Generated 67 state(s).\\n[t=0.232437s, 26280 KB] Dead ends: 0 state(s).\\n[t=0.232437s, 26280 KB] Number of registered states: 30\\n[t=0.232437s, 26280 KB] Int hash set load factor: 30/32 = 0.9375\\n[t=0.232437s, 26280 KB] Int hash set resizes: 5\\n[t=0.232437s, 26280 KB] Search time: 0.0135565s\\n[t=0.232437s, 26280 KB] Total time: 0.232437s\\nSolution found.\\nPeak memory: 26280 KB\\nRemove intermediate file output.sas\\nsearch exit code: 0\\n\\nINFO     Planner time: 1.65s\\n\"), LogMessage(level=<LogLevel.ERROR: 4>, message='')])]"
      ]
     },
     "execution_count": 7,
     "metadata": {},
     "output_type": "execute_result"
    },
    {
     "data": {
      "text/plain": [
       "<Figure size 2000x1000 with 1 Axes>"
      ],
      "image/png": "[encoded data removed]"
     },
     "metadata": {},
     "output_type": "display_data"
    }
   ],
   "execution_count": 7
  },
  {
   "cell_type": "code",
   "source": [
    "psp_generator = DirectionalProblemReducedMazeProblemGenerator(problem_count=3, auto=True)\n",
    "psp_generator.display_images()"
   ],
   "metadata": {
    "collapsed": false,
    "is_executing": true,
    "ExecuteTime": {
     "end_time": "2024-04-09T01:13:40.518924Z",
     "start_time": "2024-04-09T01:13:39.653913Z"
    }
   },
   "id": "77c8581e13d8d309",
   "outputs": [
    {
     "name": "stdout",
     "output_type": "stream",
     "text": [
      "[DEBUG] reduced_maze environment generated successfully\n",
      "[DEBUG] problem added\n",
      "[DEBUG] reduced_maze environment generated successfully\n",
      "[DEBUG] problem added\n",
      "[DEBUG] reduced_maze environment generated successfully\n",
      "[DEBUG] problem added\n"
     ]
    },
    {
     "data": {
      "text/plain": [
       "<Figure size 2000x1000 with 3 Axes>"
      ],
      "image/png": "[encoded data removed]"
     },
     "metadata": {},
     "output_type": "display_data"
    }
   ],
   "execution_count": 8
  },
  {
   "cell_type": "code",
   "source": "psp_generator.solve_each();",
   "metadata": {
    "collapsed": false,
    "ExecuteTime": {
     "end_time": "2024-04-09T01:13:41.037469Z",
     "start_time": "2024-04-09T01:13:40.519911Z"
    }
   },
   "id": "4455de74ac76c177",
   "outputs": [
    {
     "name": "stdout",
     "output_type": "stream",
     "text": [
      "Plan 1:\n",
      "Status: PlanGenerationResultStatus.SOLVED_SATISFICING\n",
      "Found plan with 2 steps!\n",
      "0: move(start, u0)\n",
      "1: move(u0, goal)\n",
      "\n",
      "Plan 2:\n",
      "Status: PlanGenerationResultStatus.SOLVED_SATISFICING\n",
      "Found plan with 2 steps!\n",
      "0: move(start, u0)\n",
      "1: move(u0, goal)\n",
      "\n",
      "Plan 3:\n",
      "Status: PlanGenerationResultStatus.SOLVED_SATISFICING\n",
      "Found plan with 2 steps!\n",
      "0: move(start, r0)\n",
      "1: move(r0, goal)\n",
      "\n"
     ]
    },
    {
     "data": {
      "text/plain": [
       "[PlanGenerationResult(status=<PlanGenerationResultStatus.SOLVED_SATISFICING: 1>, plan=SequentialPlan([move(start, u0), move(u0, goal)]), engine_name='Fast Downward', metrics={'engine_internal_time': '0.09621262550354004'}, log_messages=[LogMessage(level=<LogLevel.INFO: 2>, message=\"INFO     planner time limit: None\\nINFO     planner memory limit: None\\n\\nINFO     Running translator.\\nINFO     translator stdin: None\\nINFO     translator time limit: None\\nINFO     translator memory limit: None\\nINFO     translator command line string: /usr/bin/python3.11 /home/murumu1/.local/lib/python3.11/site-packages/up_fast_downward/downward/builds/release/bin/translate/translate.py /tmp/tmpn0hnk0wt/domain.pddl /tmp/tmpn0hnk0wt/problem.pddl --sas-file output.sas\\nParsing...\\nParsing: [0.000s CPU, 0.001s wall-clock]\\nNormalizing task... [0.000s CPU, 0.000s wall-clock]\\nInstantiating...\\nGenerating Datalog program... [0.010s CPU, 0.000s wall-clock]\\nNormalizing Datalog program...\\nNormalizing Datalog program: [0.000s CPU, 0.000s wall-clock]\\nPreparing model... [0.000s CPU, 0.000s wall-clock]\\nGenerated 5 rules.\\nComputing model... [0.000s CPU, 0.001s wall-clock]\\n337 relevant atoms\\n134 auxiliary atoms\\n471 final queue length\\n538 total queue pushes\\nCompleting instantiation... [0.000s CPU, 0.001s wall-clock]\\nInstantiating: [0.020s CPU, 0.003s wall-clock]\\nComputing fact groups...\\nFinding invariants...\\n2 initial candidates\\nFinding invariants: [0.000s CPU, 0.000s wall-clock]\\nChecking invariant weight... [0.000s CPU, 0.000s wall-clock]\\nInstantiating groups... [0.000s CPU, 0.000s wall-clock]\\nCollecting mutex groups... [0.000s CPU, 0.000s wall-clock]\\nChoosing groups...\\n0 uncovered facts\\nChoosing groups: [0.000s CPU, 0.000s wall-clock]\\nBuilding translation key... [0.000s CPU, 0.000s wall-clock]\\nComputing fact groups: [0.000s CPU, 0.000s wall-clock]\\nBuilding STRIPS to SAS dictionary... [0.000s CPU, 0.000s wall-clock]\\nBuilding dictionary for full mutex groups... [0.000s CPU, 0.000s wall-clock]\\nBuilding mutex information...\\nBuilding mutex information: [0.000s CPU, 0.000s wall-clock]\\nTranslating task...\\nProcessing axioms...\\nSimplifying axioms... [0.000s CPU, 0.000s wall-clock]\\nTranslator axioms removed by simplifying: 0\\nComputing negative axioms... [0.000s CPU, 0.000s wall-clock]\\nProcessing axioms: [0.000s CPU, 0.000s wall-clock]\\nTranslating task: [0.000s CPU, 0.001s wall-clock]\\n0 effect conditions simplified\\n0 implied preconditions added\\nDetecting unreachable propositions...\\n0 operators removed\\n0 axioms removed\\n1 propositions removed\\nDetecting unreachable propositions: [0.000s CPU, 0.001s wall-clock]\\nReordering and filtering variables...\\n1 of 1 variables necessary.\\n0 of 1 mutex groups necessary.\\n100 of 100 operators necessary.\\n0 of 0 axiom rules necessary.\\nReordering and filtering variables: [0.000s CPU, 0.000s wall-clock]\\nTranslator variables: 1\\nTranslator derived variables: 0\\nTranslator facts: 34\\nTranslator goal facts: 1\\nTranslator mutex groups: 0\\nTranslator total mutex groups size: 0\\nTranslator operators: 100\\nTranslator axioms: 0\\nTranslator task size: 336\\nTranslator peak memory: 246772 KB\\nWriting output... [0.000s CPU, 0.000s wall-clock]\\nDone! [0.020s CPU, 0.007s wall-clock]\\ntranslate exit code: 0\\n\\nINFO     Running search (release).\\nINFO     search stdin: output.sas\\nINFO     search time limit: None\\nINFO     search memory limit: None\\nINFO     search command line string: /home/murumu1/.local/lib/python3.11/site-packages/up_fast_downward/downward/builds/release/bin/downward --search 'let(hlm,landmark_sum(lm_factory=lm_reasonable_orders_hps(lm_rhw()),transform=adapt_costs(one),pref=false),let(hff,ff(transform=adapt_costs(one)),lazy_greedy([hff,hlm],preferred=[hff,hlm],cost_type=one,reopen_closed=false)))' --internal-plan-file /tmp/tmpn0hnk0wt/plan.txt < output.sas\\n[t=0.00112053s, 10628 KB] reading input...\\n[t=0.00141242s, 10628 KB] done reading input!\\n[t=0.002856s, 10892 KB] Initializing landmark sum heuristic...\\n[t=0.00291719s, 10892 KB] Generating landmark graph...\\n[t=0.00293576s, 10892 KB] Building a landmark graph with reasonable orders.\\n[t=0.00295057s, 10892 KB] Initializing Exploration...\\n[t=0.00297203s, 10892 KB] Generating landmarks using the RPG/SAS+ approach\\n[t=0.00305292s, 10892 KB] Removed 0 reasonable or obedient reasonable orders\\n[t=0.00306626s, 10892 KB] Landmarks generation time: 0.000130064s\\n[t=0.00307702s, 10892 KB] Discovered 2 landmarks, of which 0 are disjunctive and 0 are conjunctive.\\n[t=0.0030857s, 10892 KB] 1 edges\\n[t=0.00309519s, 10892 KB] approx. reasonable orders\\n[t=0.00310455s, 10892 KB] approx. obedient reasonable orders\\n[t=0.00311349s, 10892 KB] Removed 0 reasonable or obedient reasonable orders\\n[t=0.00312195s, 10892 KB] Landmarks generation time: 0.000200634s\\n[t=0.00313065s, 10892 KB] Discovered 2 landmarks, of which 0 are disjunctive and 0 are conjunctive.\\n[t=0.0031388s, 10892 KB] 1 edges\\n[t=0.00314685s, 10892 KB] Landmark graph generation time: 0.000237433s\\n[t=0.00315543s, 10892 KB] Landmark graph contains 2 landmarks, of which 0 are disjunctive and 0 are conjunctive.\\n[t=0.00316362s, 10892 KB] Landmark graph contains 1 orderings.\\n[t=0.00319994s, 10892 KB] Simplifying 100 unary operators... done! [100 unary operators]\\n[t=0.00323269s, 10892 KB] time to simplify: 4.406e-05s\\n[t=0.00324949s, 10892 KB] Initializing additive heuristic...\\n[t=0.00325857s, 10892 KB] Initializing FF heuristic...\\n[t=0.00329635s, 10892 KB] Building successor generator...done!\\n[t=0.0033399s, 10892 KB] peak memory difference for successor generator creation: 0 KB\\n[t=0.00334835s, 10892 KB] time for successor generation creation: 1.7464e-05s\\n[t=0.00335883s, 10892 KB] Variables: 1\\n[t=0.00336718s, 10892 KB] FactPairs: 34\\n[t=0.00337548s, 10892 KB] Bytes per state: 4\\n[t=0.00340712s, 10892 KB] Conducting lazy best first search, (real) bound = 2147483647\\n[t=0.00342761s, 10892 KB] 1 initial landmarks, 1 goal landmarks\\n[t=0.00345125s, 10892 KB] New best heuristic value for landmark_sum(lm_factory=lm_reasonable_orders_hps(lm_rhw()),transform=adapt_costs(one),pref=false): 1\\n[t=0.00346339s, 10892 KB] New best heuristic value for ff(transform=adapt_costs(one)): 2\\n[t=0.0034726s, 10892 KB] g=0, 1 evaluated, 0 expanded\\n[t=0.00348502s, 10892 KB] Initial heuristic value for landmark_sum(lm_factory=lm_reasonable_orders_hps(lm_rhw()),transform=adapt_costs(one),pref=false): 1\\n[t=0.00349386s, 10892 KB] Initial heuristic value for ff(transform=adapt_costs(one)): 2\\n[t=0.00351157s, 10892 KB] New best heuristic value for ff(transform=adapt_costs(one)): 1\\n[t=0.00352126s, 10892 KB] g=1, 3 evaluated, 2 expanded\\n[t=0.00353368s, 10892 KB] Solution found!\\n[t=0.00354329s, 10892 KB] Actual search time: 0.000110834s\\nmove start_ u0 (1)\\nmove u0 goal_ (1)\\n[t=0.00355296s, 10892 KB] Plan length: 2 step(s).\\n[t=0.00355296s, 10892 KB] Plan cost: 2\\n[t=0.00355296s, 10892 KB] Expanded 3 state(s).\\n[t=0.00355296s, 10892 KB] Reopened 0 state(s).\\n[t=0.00355296s, 10892 KB] Evaluated 4 state(s).\\n[t=0.00355296s, 10892 KB] Evaluations: 8\\n[t=0.00355296s, 10892 KB] Generated 10 state(s).\\n[t=0.00355296s, 10892 KB] Dead ends: 0 state(s).\\n[t=0.00355296s, 10892 KB] Number of registered states: 4\\n[t=0.00355296s, 10892 KB] Int hash set load factor: 4/4 = 1\\n[t=0.00355296s, 10892 KB] Int hash set resizes: 2\\n[t=0.00355296s, 10892 KB] Search time: 0.000146125s\\n[t=0.00355296s, 10892 KB] Total time: 0.00355296s\\nSolution found.\\nPeak memory: 10892 KB\\nRemove intermediate file output.sas\\nsearch exit code: 0\\n\\nINFO     Planner time: 0.07s\\n\"), LogMessage(level=<LogLevel.ERROR: 4>, message='')]),\n",
       " PlanGenerationResult(status=<PlanGenerationResultStatus.SOLVED_SATISFICING: 1>, plan=SequentialPlan([move(start, u0), move(u0, goal)]), engine_name='Fast Downward', metrics={'engine_internal_time': '0.09512829780578613'}, log_messages=[LogMessage(level=<LogLevel.INFO: 2>, message=\"INFO     planner time limit: None\\nINFO     planner memory limit: None\\n\\nINFO     Running translator.\\nINFO     translator stdin: None\\nINFO     translator time limit: None\\nINFO     translator memory limit: None\\nINFO     translator command line string: /usr/bin/python3.11 /home/murumu1/.local/lib/python3.11/site-packages/up_fast_downward/downward/builds/release/bin/translate/translate.py /tmp/tmp3zg0ucg3/domain.pddl /tmp/tmp3zg0ucg3/problem.pddl --sas-file output.sas\\nParsing...\\nParsing: [0.000s CPU, 0.001s wall-clock]\\nNormalizing task... [0.000s CPU, 0.000s wall-clock]\\nInstantiating...\\nGenerating Datalog program... [0.000s CPU, 0.000s wall-clock]\\nNormalizing Datalog program...\\nNormalizing Datalog program: [0.000s CPU, 0.000s wall-clock]\\nPreparing model... [0.010s CPU, 0.000s wall-clock]\\nGenerated 5 rules.\\nComputing model... [0.000s CPU, 0.001s wall-clock]\\n349 relevant atoms\\n138 auxiliary atoms\\n487 final queue length\\n554 total queue pushes\\nCompleting instantiation... [0.000s CPU, 0.001s wall-clock]\\nInstantiating: [0.010s CPU, 0.004s wall-clock]\\nComputing fact groups...\\nFinding invariants...\\n2 initial candidates\\nFinding invariants: [0.000s CPU, 0.000s wall-clock]\\nChecking invariant weight... [0.000s CPU, 0.000s wall-clock]\\nInstantiating groups... [0.000s CPU, 0.000s wall-clock]\\nCollecting mutex groups... [0.000s CPU, 0.000s wall-clock]\\nChoosing groups...\\n0 uncovered facts\\nChoosing groups: [0.000s CPU, 0.000s wall-clock]\\nBuilding translation key... [0.000s CPU, 0.000s wall-clock]\\nComputing fact groups: [0.000s CPU, 0.001s wall-clock]\\nBuilding STRIPS to SAS dictionary... [0.000s CPU, 0.000s wall-clock]\\nBuilding dictionary for full mutex groups... [0.000s CPU, 0.000s wall-clock]\\nBuilding mutex information...\\nBuilding mutex information: [0.000s CPU, 0.000s wall-clock]\\nTranslating task...\\nProcessing axioms...\\nSimplifying axioms... [0.000s CPU, 0.000s wall-clock]\\nTranslator axioms removed by simplifying: 0\\nComputing negative axioms... [0.000s CPU, 0.000s wall-clock]\\nProcessing axioms: [0.000s CPU, 0.000s wall-clock]\\nTranslating task: [0.000s CPU, 0.001s wall-clock]\\n0 effect conditions simplified\\n0 implied preconditions added\\nDetecting unreachable propositions...\\n0 operators removed\\n0 axioms removed\\n1 propositions removed\\nDetecting unreachable propositions: [0.000s CPU, 0.001s wall-clock]\\nReordering and filtering variables...\\n1 of 1 variables necessary.\\n0 of 1 mutex groups necessary.\\n102 of 102 operators necessary.\\n0 of 0 axiom rules necessary.\\nReordering and filtering variables: [0.000s CPU, 0.000s wall-clock]\\nTranslator variables: 1\\nTranslator derived variables: 0\\nTranslator facts: 36\\nTranslator goal facts: 1\\nTranslator mutex groups: 0\\nTranslator total mutex groups size: 0\\nTranslator operators: 102\\nTranslator axioms: 0\\nTranslator task size: 344\\nTranslator peak memory: 246772 KB\\nWriting output... [0.000s CPU, 0.000s wall-clock]\\nDone! [0.010s CPU, 0.008s wall-clock]\\ntranslate exit code: 0\\n\\nINFO     Running search (release).\\nINFO     search stdin: output.sas\\nINFO     search time limit: None\\nINFO     search memory limit: None\\nINFO     search command line string: /home/murumu1/.local/lib/python3.11/site-packages/up_fast_downward/downward/builds/release/bin/downward --search 'let(hlm,landmark_sum(lm_factory=lm_reasonable_orders_hps(lm_rhw()),transform=adapt_costs(one),pref=false),let(hff,ff(transform=adapt_costs(one)),lazy_greedy([hff,hlm],preferred=[hff,hlm],cost_type=one,reopen_closed=false)))' --internal-plan-file /tmp/tmp3zg0ucg3/plan.txt < output.sas\\n[t=0.00128237s, 10628 KB] reading input...\\n[t=0.00161062s, 10628 KB] done reading input!\\n[t=0.0031866s, 10892 KB] Initializing landmark sum heuristic...\\n[t=0.00325608s, 10892 KB] Generating landmark graph...\\n[t=0.00327679s, 10892 KB] Building a landmark graph with reasonable orders.\\n[t=0.00329347s, 10892 KB] Initializing Exploration...\\n[t=0.00331706s, 10892 KB] Generating landmarks using the RPG/SAS+ approach\\n[t=0.00340775s, 10892 KB] Removed 0 reasonable or obedient reasonable orders\\n[t=0.00342289s, 10892 KB] Landmarks generation time: 0.000145001s\\n[t=0.00343446s, 10892 KB] Discovered 2 landmarks, of which 0 are disjunctive and 0 are conjunctive.\\n[t=0.0034439s, 10892 KB] 1 edges\\n[t=0.00345349s, 10892 KB] approx. reasonable orders\\n[t=0.00346316s, 10892 KB] approx. obedient reasonable orders\\n[t=0.00347274s, 10892 KB] Removed 0 reasonable or obedient reasonable orders\\n[t=0.00348184s, 10892 KB] Landmarks generation time: 0.000220666s\\n[t=0.0034912s, 10892 KB] Discovered 2 landmarks, of which 0 are disjunctive and 0 are conjunctive.\\n[t=0.00350044s, 10892 KB] 1 edges\\n[t=0.00350952s, 10892 KB] Landmark graph generation time: 0.000261969s\\n[t=0.00351909s, 10892 KB] Landmark graph contains 2 landmarks, of which 0 are disjunctive and 0 are conjunctive.\\n[t=0.00352811s, 10892 KB] Landmark graph contains 1 orderings.\\n[t=0.00356809s, 10892 KB] Simplifying 102 unary operators... done! [102 unary operators]\\n[t=0.00360518s, 10892 KB] time to simplify: 4.9228e-05s\\n[t=0.00362358s, 10892 KB] Initializing additive heuristic...\\n[t=0.00363342s, 10892 KB] Initializing FF heuristic...\\n[t=0.00367363s, 10892 KB] Building successor generator...done!\\n[t=0.00372251s, 10892 KB] peak memory difference for successor generator creation: 0 KB\\n[t=0.00373178s, 10892 KB] time for successor generation creation: 1.9615e-05s\\n[t=0.00374281s, 10892 KB] Variables: 1\\n[t=0.00375219s, 10892 KB] FactPairs: 36\\n[t=0.00376179s, 10892 KB] Bytes per state: 4\\n[t=0.00379655s, 10892 KB] Conducting lazy best first search, (real) bound = 2147483647\\n[t=0.00381869s, 10892 KB] 1 initial landmarks, 1 goal landmarks\\n[t=0.00384472s, 10892 KB] New best heuristic value for landmark_sum(lm_factory=lm_reasonable_orders_hps(lm_rhw()),transform=adapt_costs(one),pref=false): 1\\n[t=0.00385742s, 10892 KB] New best heuristic value for ff(transform=adapt_costs(one)): 2\\n[t=0.00386722s, 10892 KB] g=0, 1 evaluated, 0 expanded\\n[t=0.00388068s, 10892 KB] Initial heuristic value for landmark_sum(lm_factory=lm_reasonable_orders_hps(lm_rhw()),transform=adapt_costs(one),pref=false): 1\\n[t=0.00389029s, 10892 KB] Initial heuristic value for ff(transform=adapt_costs(one)): 2\\n[t=0.00391021s, 10892 KB] New best heuristic value for ff(transform=adapt_costs(one)): 1\\n[t=0.00392063s, 10892 KB] g=1, 3 evaluated, 2 expanded\\n[t=0.00393475s, 10892 KB] Solution found!\\n[t=0.00394542s, 10892 KB] Actual search time: 0.000120854s\\nmove start_ u0 (1)\\nmove u0 goal_ (1)\\n[t=0.00395575s, 10892 KB] Plan length: 2 step(s).\\n[t=0.00395575s, 10892 KB] Plan cost: 2\\n[t=0.00395575s, 10892 KB] Expanded 3 state(s).\\n[t=0.00395575s, 10892 KB] Reopened 0 state(s).\\n[t=0.00395575s, 10892 KB] Evaluated 4 state(s).\\n[t=0.00395575s, 10892 KB] Evaluations: 8\\n[t=0.00395575s, 10892 KB] Generated 10 state(s).\\n[t=0.00395575s, 10892 KB] Dead ends: 0 state(s).\\n[t=0.00395575s, 10892 KB] Number of registered states: 4\\n[t=0.00395575s, 10892 KB] Int hash set load factor: 4/4 = 1\\n[t=0.00395575s, 10892 KB] Int hash set resizes: 2\\n[t=0.00395575s, 10892 KB] Search time: 0.000159583s\\n[t=0.00395575s, 10892 KB] Total time: 0.00395575s\\nSolution found.\\nPeak memory: 10892 KB\\nRemove intermediate file output.sas\\nsearch exit code: 0\\n\\nINFO     Planner time: 0.07s\\n\"), LogMessage(level=<LogLevel.ERROR: 4>, message='')]),\n",
       " PlanGenerationResult(status=<PlanGenerationResultStatus.SOLVED_SATISFICING: 1>, plan=SequentialPlan([move(start, r0), move(r0, goal)]), engine_name='Fast Downward', metrics={'engine_internal_time': '0.08077573776245117'}, log_messages=[LogMessage(level=<LogLevel.INFO: 2>, message=\"INFO     planner time limit: None\\nINFO     planner memory limit: None\\n\\nINFO     Running translator.\\nINFO     translator stdin: None\\nINFO     translator time limit: None\\nINFO     translator memory limit: None\\nINFO     translator command line string: /usr/bin/python3.11 /home/murumu1/.local/lib/python3.11/site-packages/up_fast_downward/downward/builds/release/bin/translate/translate.py /tmp/tmpldwxs615/domain.pddl /tmp/tmpldwxs615/problem.pddl --sas-file output.sas\\nParsing...\\nParsing: [0.000s CPU, 0.001s wall-clock]\\nNormalizing task... [0.000s CPU, 0.000s wall-clock]\\nInstantiating...\\nGenerating Datalog program... [0.000s CPU, 0.000s wall-clock]\\nNormalizing Datalog program...\\nNormalizing Datalog program: [0.000s CPU, 0.000s wall-clock]\\nPreparing model... [0.000s CPU, 0.000s wall-clock]\\nGenerated 5 rules.\\nComputing model... [0.000s CPU, 0.000s wall-clock]\\n77 relevant atoms\\n29 auxiliary atoms\\n106 final queue length\\n118 total queue pushes\\nCompleting instantiation... [0.000s CPU, 0.000s wall-clock]\\nInstantiating: [0.000s CPU, 0.001s wall-clock]\\nComputing fact groups...\\nFinding invariants...\\n2 initial candidates\\nFinding invariants: [0.000s CPU, 0.000s wall-clock]\\nChecking invariant weight... [0.000s CPU, 0.000s wall-clock]\\nInstantiating groups... [0.000s CPU, 0.000s wall-clock]\\nCollecting mutex groups... [0.000s CPU, 0.000s wall-clock]\\nChoosing groups...\\n0 uncovered facts\\nChoosing groups: [0.000s CPU, 0.000s wall-clock]\\nBuilding translation key... [0.000s CPU, 0.000s wall-clock]\\nComputing fact groups: [0.000s CPU, 0.000s wall-clock]\\nBuilding STRIPS to SAS dictionary... [0.000s CPU, 0.000s wall-clock]\\nBuilding dictionary for full mutex groups... [0.000s CPU, 0.000s wall-clock]\\nBuilding mutex information...\\nBuilding mutex information: [0.000s CPU, 0.000s wall-clock]\\nTranslating task...\\nProcessing axioms...\\nSimplifying axioms... [0.000s CPU, 0.000s wall-clock]\\nTranslator axioms removed by simplifying: 0\\nComputing negative axioms... [0.000s CPU, 0.000s wall-clock]\\nProcessing axioms: [0.000s CPU, 0.000s wall-clock]\\nTranslating task: [0.000s CPU, 0.000s wall-clock]\\n0 effect conditions simplified\\n0 implied preconditions added\\nDetecting unreachable propositions...\\n0 operators removed\\n0 axioms removed\\n1 propositions removed\\nDetecting unreachable propositions: [0.000s CPU, 0.000s wall-clock]\\nReordering and filtering variables...\\n1 of 1 variables necessary.\\n0 of 1 mutex groups necessary.\\n20 of 20 operators necessary.\\n0 of 0 axiom rules necessary.\\nReordering and filtering variables: [0.000s CPU, 0.000s wall-clock]\\nTranslator variables: 1\\nTranslator derived variables: 0\\nTranslator facts: 9\\nTranslator goal facts: 1\\nTranslator mutex groups: 0\\nTranslator total mutex groups size: 0\\nTranslator operators: 20\\nTranslator axioms: 0\\nTranslator task size: 71\\nTranslator peak memory: 246772 KB\\nWriting output... [0.000s CPU, 0.000s wall-clock]\\nDone! [0.000s CPU, 0.003s wall-clock]\\ntranslate exit code: 0\\n\\nINFO     Running search (release).\\nINFO     search stdin: output.sas\\nINFO     search time limit: None\\nINFO     search memory limit: None\\nINFO     search command line string: /home/murumu1/.local/lib/python3.11/site-packages/up_fast_downward/downward/builds/release/bin/downward --search 'let(hlm,landmark_sum(lm_factory=lm_reasonable_orders_hps(lm_rhw()),transform=adapt_costs(one),pref=false),let(hff,ff(transform=adapt_costs(one)),lazy_greedy([hff,hlm],preferred=[hff,hlm],cost_type=one,reopen_closed=false)))' --internal-plan-file /tmp/tmpldwxs615/plan.txt < output.sas\\n[t=0.00107197s, 10628 KB] reading input...\\n[t=0.0012012s, 10628 KB] done reading input!\\n[t=0.00257343s, 10892 KB] Initializing landmark sum heuristic...\\n[t=0.00264531s, 10892 KB] Generating landmark graph...\\n[t=0.0026608s, 10892 KB] Building a landmark graph with reasonable orders.\\n[t=0.00267037s, 10892 KB] Initializing Exploration...\\n[t=0.00268373s, 10892 KB] Generating landmarks using the RPG/SAS+ approach\\n[t=0.00272883s, 10892 KB] Removed 0 reasonable or obedient reasonable orders\\n[t=0.00274024s, 10892 KB] Landmarks generation time: 7.9095e-05s\\n[t=0.00274929s, 10892 KB] Discovered 3 landmarks, of which 1 are disjunctive and 0 are conjunctive.\\n[t=0.00275723s, 10892 KB] 2 edges\\n[t=0.00276512s, 10892 KB] approx. reasonable orders\\n[t=0.00277376s, 10892 KB] approx. obedient reasonable orders\\n[t=0.00278188s, 10892 KB] Removed 0 reasonable or obedient reasonable orders\\n[t=0.00278973s, 10892 KB] Landmarks generation time: 0.000138717s\\n[t=0.00279771s, 10892 KB] Discovered 3 landmarks, of which 1 are disjunctive and 0 are conjunctive.\\n[t=0.00280525s, 10892 KB] 2 edges\\n[t=0.00281279s, 10892 KB] Landmark graph generation time: 0.000174768s\\n[t=0.00282086s, 10892 KB] Landmark graph contains 3 landmarks, of which 1 are disjunctive and 0 are conjunctive.\\n[t=0.00282858s, 10892 KB] Landmark graph contains 2 orderings.\\n[t=0.00285081s, 10892 KB] Simplifying 20 unary operators... done! [20 unary operators]\\n[t=0.00286771s, 10892 KB] time to simplify: 2.8638e-05s\\n[t=0.00288186s, 10892 KB] Initializing additive heuristic...\\n[t=0.00289049s, 10892 KB] Initializing FF heuristic...\\n[t=0.00292511s, 10892 KB] Building successor generator...done!\\n[t=0.00295639s, 10892 KB] peak memory difference for successor generator creation: 0 KB\\n[t=0.00296471s, 10892 KB] time for successor generation creation: 8.132e-06s\\n[t=0.00297397s, 10892 KB] Variables: 1\\n[t=0.00298174s, 10892 KB] FactPairs: 9\\n[t=0.00298922s, 10892 KB] Bytes per state: 4\\n[t=0.00301902s, 10892 KB] Conducting lazy best first search, (real) bound = 2147483647\\n[t=0.00303839s, 10892 KB] 1 initial landmarks, 1 goal landmarks\\n[t=0.00306171s, 10892 KB] New best heuristic value for landmark_sum(lm_factory=lm_reasonable_orders_hps(lm_rhw()),transform=adapt_costs(one),pref=false): 2\\n[t=0.00307247s, 10892 KB] New best heuristic value for ff(transform=adapt_costs(one)): 2\\n[t=0.00308033s, 10892 KB] g=0, 1 evaluated, 0 expanded\\n[t=0.00309141s, 10892 KB] Initial heuristic value for landmark_sum(lm_factory=lm_reasonable_orders_hps(lm_rhw()),transform=adapt_costs(one),pref=false): 2\\n[t=0.00309954s, 10892 KB] Initial heuristic value for ff(transform=adapt_costs(one)): 2\\n[t=0.00311556s, 10892 KB] New best heuristic value for landmark_sum(lm_factory=lm_reasonable_orders_hps(lm_rhw()),transform=adapt_costs(one),pref=false): 1\\n[t=0.00312478s, 10892 KB] New best heuristic value for ff(transform=adapt_costs(one)): 1\\n[t=0.00313252s, 10892 KB] g=1, 3 evaluated, 2 expanded\\n[t=0.00314376s, 10892 KB] Solution found!\\n[t=0.00315265s, 10892 KB] Actual search time: 0.000107637s\\nmove start_ r0 (1)\\nmove r0 goal_ (1)\\n[t=0.00316144s, 10892 KB] Plan length: 2 step(s).\\n[t=0.00316144s, 10892 KB] Plan cost: 2\\n[t=0.00316144s, 10892 KB] Expanded 3 state(s).\\n[t=0.00316144s, 10892 KB] Reopened 0 state(s).\\n[t=0.00316144s, 10892 KB] Evaluated 4 state(s).\\n[t=0.00316144s, 10892 KB] Evaluations: 8\\n[t=0.00316144s, 10892 KB] Generated 7 state(s).\\n[t=0.00316144s, 10892 KB] Dead ends: 0 state(s).\\n[t=0.00316144s, 10892 KB] Number of registered states: 4\\n[t=0.00316144s, 10892 KB] Int hash set load factor: 4/4 = 1\\n[t=0.00316144s, 10892 KB] Int hash set resizes: 2\\n[t=0.00316144s, 10892 KB] Search time: 0.000142769s\\n[t=0.00316144s, 10892 KB] Total time: 0.00316144s\\nSolution found.\\nPeak memory: 10892 KB\\nRemove intermediate file output.sas\\nsearch exit code: 0\\n\\nINFO     Planner time: 0.06s\\n\"), LogMessage(level=<LogLevel.ERROR: 4>, message='')])]"
      ]
     },
     "execution_count": 9,
     "metadata": {},
     "output_type": "execute_result"
    }
   ],
   "execution_count": 9
  },
  {
   "metadata": {
    "ExecuteTime": {
     "end_time": "2024-04-09T01:13:41.541232Z",
     "start_time": "2024-04-09T01:13:41.039275Z"
    }
   },
   "cell_type": "code",
   "source": [
    "psp_generator = NonDirectionalProblemReducedMazeProblemGenerator(problem_count=2, auto=True)\n",
    "psp_generator.display_images()"
   ],
   "id": "3990ad7e94352620",
   "outputs": [
    {
     "name": "stdout",
     "output_type": "stream",
     "text": [
      "[DEBUG] reduced_maze environment generated successfully\n",
      "[DEBUG] problem added\n",
      "[DEBUG] reduced_maze environment generated successfully\n",
      "[DEBUG] problem added\n"
     ]
    },
    {
     "data": {
      "text/plain": [
       "<Figure size 2000x1000 with 2 Axes>"
      ],
      "image/png": "[encoded data removed]"
     },
     "metadata": {},
     "output_type": "display_data"
    }
   ],
   "execution_count": 10
  },
  {
   "metadata": {
    "ExecuteTime": {
     "end_time": "2024-04-09T01:13:41.823481Z",
     "start_time": "2024-04-09T01:13:41.542292Z"
    }
   },
   "cell_type": "code",
   "source": "psp_generator.solve_each();",
   "id": "848d47d99419f40a",
   "outputs": [
    {
     "name": "stdout",
     "output_type": "stream",
     "text": [
      "Plan 1:\n",
      "Status: PlanGenerationResultStatus.SOLVED_SATISFICING\n",
      "Found plan with 2 steps!\n",
      "0: move(p4-4, p3-4)\n",
      "1: move(p3-4, p3-3)\n",
      "\n",
      "Plan 2:\n",
      "Status: PlanGenerationResultStatus.SOLVED_SATISFICING\n",
      "Found plan with 4 steps!\n",
      "0: move(p1-3, p1-2)\n",
      "1: move(p1-2, p1-1)\n",
      "2: move(p1-1, p1-0)\n",
      "3: move(p1-0, p2-0)\n",
      "\n"
     ]
    }
   ],
   "execution_count": 11
  },
  {
   "metadata": {
    "ExecuteTime": {
     "end_time": "2024-04-09T01:13:42.301554Z",
     "start_time": "2024-04-09T01:13:41.824437Z"
    }
   },
   "cell_type": "code",
   "source": [
    "psp_generator = NonDirectionalProblemReducedMazeProblemGenerator(problem_count=1, auto=True, tile_size=12)\n",
    "psp_generator.display_images()"
   ],
   "id": "4dcf8e6f39956421",
   "outputs": [
    {
     "name": "stdout",
     "output_type": "stream",
     "text": [
      "[DEBUG] reduced_maze environment generated successfully\n",
      "[DEBUG] problem added\n"
     ]
    },
    {
     "data": {
      "text/plain": [
       "<Figure size 2000x1000 with 1 Axes>"
      ],
      "image/png": "[encoded data removed]"
     },
     "metadata": {},
     "output_type": "display_data"
    }
   ],
   "execution_count": 12
  },
  {
   "metadata": {
    "ExecuteTime": {
     "end_time": "2024-04-09T01:13:46.371799Z",
     "start_time": "2024-04-09T01:13:42.303655Z"
    }
   },
   "cell_type": "code",
   "source": [
    "from experiments import variable_experiment\n",
    "plot = variable_experiment(NonDirectionalProblemReducedMazeProblemGenerator)\n",
    "plot.show()"
   ],
   "id": "6c479860d241c1b2",
   "outputs": [
    {
     "name": "stdout",
     "output_type": "stream",
     "text": [
      "[DEBUG] reduced_maze environment generated successfully\n",
      "[DEBUG] problem added\n",
      "Plan 1:\n",
      "Status: PlanGenerationResultStatus.SOLVED_SATISFICING\n",
      "Found plan with 1 steps!\n",
      "0: move(p0-0, p0-1)\n",
      "\n",
      "True\n",
      "[DEBUG] reduced_maze environment generated successfully\n",
      "[DEBUG] problem added\n",
      "Plan 1:\n",
      "Status: PlanGenerationResultStatus.SOLVED_SATISFICING\n",
      "Found plan with 1 steps!\n",
      "0: move(p0-2, p0-1)\n",
      "\n",
      "True\n",
      "[DEBUG] reduced_maze environment generated successfully\n",
      "[DEBUG] problem added\n",
      "Plan 1:\n",
      "Status: PlanGenerationResultStatus.SOLVED_SATISFICING\n",
      "Found plan with 2 steps!\n",
      "0: move(p3-1, p2-1)\n",
      "1: move(p2-1, p2-2)\n",
      "\n",
      "True\n",
      "[DEBUG] reduced_maze environment generated successfully\n",
      "[DEBUG] problem added\n",
      "Plan 1:\n",
      "Status: PlanGenerationResultStatus.SOLVED_SATISFICING\n",
      "Found plan with 2 steps!\n",
      "0: move(p1-1, p1-2)\n",
      "1: move(p1-2, p2-2)\n",
      "\n",
      "True\n",
      "[DEBUG] reduced_maze environment generated successfully\n",
      "[DEBUG] problem added\n",
      "Plan 1:\n",
      "Status: PlanGenerationResultStatus.SOLVED_SATISFICING\n",
      "Found plan with 1 steps!\n",
      "0: move(p2-0, p2-1)\n",
      "\n",
      "True\n",
      "[DEBUG] reduced_maze environment generated successfully\n",
      "[DEBUG] problem added\n",
      "Plan 1:\n",
      "Status: PlanGenerationResultStatus.SOLVED_SATISFICING\n",
      "Found plan with 4 steps!\n",
      "0: move(p2-6, p2-5)\n",
      "1: move(p2-5, p3-5)\n",
      "2: move(p3-5, p3-4)\n",
      "3: move(p3-4, p4-4)\n",
      "\n",
      "True\n",
      "[DEBUG] reduced_maze environment generated successfully\n",
      "[DEBUG] problem added\n",
      "Plan 1:\n",
      "Status: PlanGenerationResultStatus.SOLVED_SATISFICING\n",
      "Found plan with 1 steps!\n",
      "0: move(p1-0, p2-0)\n",
      "\n",
      "True\n",
      "[DEBUG] reduced_maze environment generated successfully\n",
      "[DEBUG] problem added\n",
      "Plan 1:\n",
      "Status: PlanGenerationResultStatus.SOLVED_SATISFICING\n",
      "Found plan with 9 steps!\n",
      "0: move(p3-7, p2-7)\n",
      "1: move(p2-7, p2-6)\n",
      "2: move(p2-6, p2-5)\n",
      "3: move(p2-5, p2-4)\n",
      "4: move(p2-4, p2-3)\n",
      "5: move(p2-3, p2-2)\n",
      "6: move(p2-2, p2-1)\n",
      "7: move(p2-1, p2-0)\n",
      "8: move(p2-0, p1-0)\n",
      "\n",
      "True\n"
     ]
    },
    {
     "ename": "AttributeError",
     "evalue": "'NoneType' object has no attribute 'show'",
     "output_type": "error",
     "traceback": [
      "\u001B[0;31m---------------------------------------------------------------------------\u001B[0m",
      "\u001B[0;31mAttributeError\u001B[0m                            Traceback (most recent call last)",
      "Cell \u001B[0;32mIn[13], line 3\u001B[0m\n\u001B[1;32m      1\u001B[0m \u001B[38;5;28;01mfrom\u001B[39;00m \u001B[38;5;21;01mexperiments\u001B[39;00m \u001B[38;5;28;01mimport\u001B[39;00m variable_experiment\n\u001B[1;32m      2\u001B[0m plot \u001B[38;5;241m=\u001B[39m variable_experiment(NonDirectionalProblemReducedMazeProblemGenerator)\n\u001B[0;32m----> 3\u001B[0m \u001B[43mplot\u001B[49m\u001B[38;5;241;43m.\u001B[39;49m\u001B[43mshow\u001B[49m()\n",
      "\u001B[0;31mAttributeError\u001B[0m: 'NoneType' object has no attribute 'show'"
     ]
    },
    {
     "data": {
      "text/plain": [
       "<Figure size 2000x1000 with 1 Axes>"
      ],
      "image/png": "[encoded data removed]"
     },
     "metadata": {},
     "output_type": "display_data"
    },
    {
     "data": {
      "text/plain": [
       "<Figure size 2000x1000 with 1 Axes>"
      ],
      "image/png": "[encoded data removed]"
     },
     "metadata": {},
     "output_type": "display_data"
    },
    {
     "data": {
      "text/plain": [
       "<Figure size 2000x1000 with 1 Axes>"
      ],
      "image/png": "[encoded data removed]"
     },
     "metadata": {},
     "output_type": "display_data"
    },
    {
     "data": {
      "text/plain": [
       "<Figure size 2000x1000 with 1 Axes>"
      ],
      "image/png": "[encoded data removed]"
     },
     "metadata": {},
     "output_type": "display_data"
    },
    {
     "data": {
      "text/plain": [
       "<Figure size 2000x1000 with 1 Axes>"
      ],
      "image/png": "[encoded data removed]"
     },
     "metadata": {},
     "output_type": "display_data"
    },
    {
     "data": {
      "text/plain": [
       "<Figure size 2000x1000 with 1 Axes>"
      ],
      "image/png": "[encoded data removed]"
     },
     "metadata": {},
     "output_type": "display_data"
    },
    {
     "data": {
      "text/plain": [
       "<Figure size 2000x1000 with 1 Axes>"
      ],
      "image/png": "[encoded data removed]"
     },
     "metadata": {},
     "output_type": "display_data"
    },
    {
     "data": {
      "text/plain": [
       "<Figure size 2000x1000 with 1 Axes>"
      ],
      "image/png": "[encoded data removed]"
     },
     "metadata": {},
     "output_type": "display_data"
    },
    {
     "data": {
      "text/plain": [
       "<Figure size 640x480 with 1 Axes>"
      ],
      "image/png": "[encoded data removed]"
     },
     "metadata": {},
     "output_type": "display_data"
    }
   ],
   "execution_count": 13
  }
 ],
 "metadata": {
  "kernelspec": {
   "display_name": "Python 3",
   "language": "python",
   "name": "python3"
  },
  "language_info": {
   "codemirror_mode": {
    "name": "ipython",
    "version": 2
   },
   "file_extension": ".py",
   "mimetype": "text/x-python",
   "name": "python",
   "nbconvert_exporter": "python",
   "pygments_lexer": "ipython2",
   "version": "2.7.6"
  }
 },
 "nbformat": 4,
 "nbformat_minor": 5
}
