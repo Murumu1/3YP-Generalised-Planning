{
 "cells": [
  {
   "cell_type": "markdown",
   "source": [
    "# Third Year Project 2023-24 Experiments\n",
    "#### Murtaza Daudali"
   ],
   "metadata": {
    "collapsed": false
   },
   "id": "51c0905ff07bf662"
  },
  {
   "cell_type": "markdown",
   "source": [
    "## Set-up\n",
    "Before compiling this notebook, please ensure you have all pre-requisite packages installed, this can be done by running:\n",
    "\n",
    "`pip install -r requirements.txt`"
   ],
   "metadata": {
    "collapsed": false
   },
   "id": "e408c583e6463518"
  },
  {
   "cell_type": "code",
   "source": [
    "from generators import DirectionalProblemReducedMazeProblemGenerator, SnakeProblemGenerator, NonDirectionalProblemReducedMazeProblemGenerator\n",
    "%matplotlib inline"
   ],
   "metadata": {
    "collapsed": false,
    "ExecuteTime": {
     "end_time": "2024-04-05T01:22:59.369759Z",
     "start_time": "2024-04-05T01:22:58.626094Z"
    }
   },
   "id": "f5cef981657e4060",
   "outputs": [
    {
     "name": "stdout",
     "output_type": "stream",
     "text": [
      "pygame 2.5.2 (SDL 2.28.2, Python 3.11.6)\n",
      "Hello from the pygame community. https://www.pygame.org/contribute.html\n"
     ]
    }
   ],
   "execution_count": 1
  },
  {
   "cell_type": "code",
   "source": [
    "snake_generator = SnakeProblemGenerator(problem_count=1, auto=True)\n",
    "snake_generator.display_images()"
   ],
   "metadata": {
    "collapsed": false,
    "ExecuteTime": {
     "end_time": "2024-04-05T01:22:59.782526Z",
     "start_time": "2024-04-05T01:22:59.371175Z"
    }
   },
   "id": "592399e8aca5e099",
   "outputs": [
    {
     "name": "stdout",
     "output_type": "stream",
     "text": [
      "[DEBUG] snake environment generated successfully\n",
      "[DEBUG] problem added\n"
     ]
    },
    {
     "data": {
      "text/plain": [
       "<Figure size 2000x1000 with 1 Axes>"
      ],
      "image/png": "[encoded data removed]"
     },
     "metadata": {},
     "output_type": "display_data"
    }
   ],
   "execution_count": 2
  },
  {
   "cell_type": "code",
   "source": [
    "snake_generator.display_problems()\n",
    "# snake_generator.save_as_pddl() #TODO: FIX (not creating file)"
   ],
   "metadata": {
    "collapsed": false,
    "ExecuteTime": {
     "end_time": "2024-04-05T01:22:59.788050Z",
     "start_time": "2024-04-05T01:22:59.783539Z"
    }
   },
   "id": "e811f1adf81d31da",
   "outputs": [
    {
     "name": "stdout",
     "output_type": "stream",
     "text": [
      "Problem 0:\n",
      "problem name = snake0\n",
      "\n",
      "types = [position]\n",
      "\n",
      "fluents = [\n",
      "  bool path[x=position, y=position]\n",
      "  bool head-at[x=position]\n",
      "  bool tail-at[x=position]\n",
      "  bool body-con[x=position, y=position]\n",
      "  bool blocked[x=position]\n",
      "  bool apple-at[x=position]\n",
      "  bool spawn-apple[x=position]\n",
      "  bool next-apple[x=position, y=position]\n",
      "]\n",
      "\n",
      "actions = [\n",
      "  action move(position head, position newhead, position tail, position newtail) {\n",
      "    preconditions = [\n",
      "      (head-at(head) and path(head, newhead) and tail-at(tail) and body-con(newtail, tail) and (not blocked(newhead)) and (not apple-at(newhead)))\n",
      "    ]\n",
      "    effects = [\n",
      "      blocked(newhead) := true\n",
      "      head-at(newhead) := true\n",
      "      body-con(newhead, head) := true\n",
      "      head-at(head) := false\n",
      "      blocked(tail) := false\n",
      "      tail-at(tail) := false\n",
      "      body-con(newtail, tail) := false\n",
      "      tail-at(newtail) := true\n",
      "    ]\n",
      "  }\n",
      "  action move-and-eat(position head, position newhead, position spawn, position nextspawn) {\n",
      "    preconditions = [\n",
      "      (head-at(head) and path(head, newhead) and (not blocked(newhead)) and apple-at(newhead) and spawn-apple(spawn) and next-apple(spawn, nextspawn) and (not (spawn == dummypoint)))\n",
      "    ]\n",
      "    effects = [\n",
      "      blocked(newhead) := true\n",
      "      head-at(newhead) := true\n",
      "      body-con(newhead, head) := true\n",
      "      head-at(head) := false\n",
      "      apple-at(newhead) := false\n",
      "      apple-at(spawn) := true\n",
      "      spawn-apple(spawn) := false\n",
      "      spawn-apple(nextspawn) := true\n",
      "    ]\n",
      "  }\n",
      "  action move-and-eat-no-spawn(position head, position newhead) {\n",
      "    preconditions = [\n",
      "      (head-at(head) and path(head, newhead) and (not blocked(newhead)) and apple-at(newhead) and spawn-apple(dummypoint))\n",
      "    ]\n",
      "    effects = [\n",
      "      blocked(newhead) := true\n",
      "      head-at(newhead) := true\n",
      "      body-con(newhead, head) := true\n",
      "      head-at(head) := false\n",
      "      apple-at(newhead) := false\n",
      "    ]\n",
      "  }\n",
      "]\n",
      "\n",
      "objects = [\n",
      "  position: [dummypoint, p0-0, p0-1, p0-2, p0-3, p0-4, p1-0, p1-1, p1-2, p1-3, p1-4, p2-0, p2-1, p2-2, p2-3, p2-4, p3-0, p3-1, p3-2, p3-3, p3-4, p4-0, p4-1, p4-2, p4-3, p4-4]\n",
      "]\n",
      "\n",
      "initial fluents default = [\n",
      "  bool path[x=position, y=position] := false\n",
      "  bool head-at[x=position] := false\n",
      "  bool tail-at[x=position] := false\n",
      "  bool body-con[x=position, y=position] := false\n",
      "  bool blocked[x=position] := false\n",
      "  bool apple-at[x=position] := false\n",
      "  bool spawn-apple[x=position] := false\n",
      "  bool next-apple[x=position, y=position] := false\n",
      "]\n",
      "\n",
      "initial values = [\n",
      "  path(p0-1, p0-0) := true\n",
      "  path(p0-0, p0-1) := true\n",
      "  path(p1-0, p0-0) := true\n",
      "  path(p0-0, p1-0) := true\n",
      "  path(p0-2, p0-1) := true\n",
      "  path(p0-1, p0-2) := true\n",
      "  path(p1-1, p0-1) := true\n",
      "  path(p0-1, p1-1) := true\n",
      "  path(p0-3, p0-2) := true\n",
      "  path(p0-2, p0-3) := true\n",
      "  path(p1-2, p0-2) := true\n",
      "  path(p0-2, p1-2) := true\n",
      "  path(p0-4, p0-3) := true\n",
      "  path(p0-3, p0-4) := true\n",
      "  path(p1-3, p0-3) := true\n",
      "  path(p0-3, p1-3) := true\n",
      "  path(p1-4, p0-4) := true\n",
      "  path(p0-4, p1-4) := true\n",
      "  path(p1-1, p1-0) := true\n",
      "  path(p1-0, p1-1) := true\n",
      "  path(p2-0, p1-0) := true\n",
      "  path(p1-0, p2-0) := true\n",
      "  path(p1-2, p1-1) := true\n",
      "  path(p1-1, p1-2) := true\n",
      "  path(p2-1, p1-1) := true\n",
      "  path(p1-1, p2-1) := true\n",
      "  path(p1-3, p1-2) := true\n",
      "  path(p1-2, p1-3) := true\n",
      "  path(p2-2, p1-2) := true\n",
      "  path(p1-2, p2-2) := true\n",
      "  path(p1-4, p1-3) := true\n",
      "  path(p1-3, p1-4) := true\n",
      "  path(p2-3, p1-3) := true\n",
      "  path(p1-3, p2-3) := true\n",
      "  path(p2-4, p1-4) := true\n",
      "  path(p1-4, p2-4) := true\n",
      "  path(p2-1, p2-0) := true\n",
      "  path(p2-0, p2-1) := true\n",
      "  path(p3-0, p2-0) := true\n",
      "  path(p2-0, p3-0) := true\n",
      "  path(p2-2, p2-1) := true\n",
      "  path(p2-1, p2-2) := true\n",
      "  path(p3-1, p2-1) := true\n",
      "  path(p2-1, p3-1) := true\n",
      "  path(p2-3, p2-2) := true\n",
      "  path(p2-2, p2-3) := true\n",
      "  path(p3-2, p2-2) := true\n",
      "  path(p2-2, p3-2) := true\n",
      "  path(p2-4, p2-3) := true\n",
      "  path(p2-3, p2-4) := true\n",
      "  path(p3-3, p2-3) := true\n",
      "  path(p2-3, p3-3) := true\n",
      "  path(p3-4, p2-4) := true\n",
      "  path(p2-4, p3-4) := true\n",
      "  path(p3-1, p3-0) := true\n",
      "  path(p3-0, p3-1) := true\n",
      "  path(p4-0, p3-0) := true\n",
      "  path(p3-0, p4-0) := true\n",
      "  path(p3-2, p3-1) := true\n",
      "  path(p3-1, p3-2) := true\n",
      "  path(p4-1, p3-1) := true\n",
      "  path(p3-1, p4-1) := true\n",
      "  path(p3-3, p3-2) := true\n",
      "  path(p3-2, p3-3) := true\n",
      "  path(p4-2, p3-2) := true\n",
      "  path(p3-2, p4-2) := true\n",
      "  path(p3-4, p3-3) := true\n",
      "  path(p3-3, p3-4) := true\n",
      "  path(p4-3, p3-3) := true\n",
      "  path(p3-3, p4-3) := true\n",
      "  path(p4-4, p3-4) := true\n",
      "  path(p3-4, p4-4) := true\n",
      "  path(p4-1, p4-0) := true\n",
      "  path(p4-0, p4-1) := true\n",
      "  path(p4-2, p4-1) := true\n",
      "  path(p4-1, p4-2) := true\n",
      "  path(p4-3, p4-2) := true\n",
      "  path(p4-2, p4-3) := true\n",
      "  path(p4-4, p4-3) := true\n",
      "  path(p4-3, p4-4) := true\n",
      "  head-at(p4-1) := true\n",
      "  tail-at(p4-2) := true\n",
      "  body-con(p4-1, p4-2) := true\n",
      "  blocked(p4-1) := true\n",
      "  blocked(p4-2) := true\n",
      "  apple-at(p1-3) := true\n",
      "  spawn-apple(p0-3) := true\n",
      "  next-apple(p0-3, p0-0) := true\n",
      "  next-apple(p0-0, p4-2) := true\n",
      "  next-apple(p4-2, p2-2) := true\n",
      "  next-apple(p2-2, dummypoint) := true\n",
      "]\n",
      "\n",
      "goals = [\n",
      "  (not apple-at(p1-3))\n",
      "  (not apple-at(p0-3))\n",
      "  (not apple-at(p0-0))\n",
      "  (not apple-at(p4-2))\n",
      "  (not apple-at(p2-2))\n",
      "]\n",
      "\n",
      "\n"
     ]
    }
   ],
   "execution_count": 3
  },
  {
   "cell_type": "code",
   "source": [
    "snake_generator.solve_each()"
   ],
   "metadata": {
    "collapsed": false,
    "ExecuteTime": {
     "end_time": "2024-04-05T01:23:01.471939Z",
     "start_time": "2024-04-05T01:22:59.789008Z"
    }
   },
   "id": "e49a2491be3c91c6",
   "outputs": [
    {
     "name": "stdout",
     "output_type": "stream",
     "text": [
      "Plan 1:\n",
      "Status: PlanGenerationResultStatus.SOLVED_SATISFICING\n",
      "Found plan with 17 steps!\n",
      "0: move(p4-1, p3-1, p4-2, p4-1)\n",
      "1: move(p3-1, p2-1, p4-1, p3-1)\n",
      "2: move(p2-1, p2-2, p3-1, p2-1)\n",
      "3: move(p2-2, p1-2, p2-1, p2-2)\n",
      "4: move-and-eat(p1-2, p1-3, p0-3, p0-0)\n",
      "5: move-and-eat(p1-3, p0-3, p0-0, p4-2)\n",
      "6: move(p0-3, p0-2, p2-2, p1-2)\n",
      "7: move(p0-2, p0-1, p1-2, p1-3)\n",
      "8: move-and-eat(p0-1, p0-0, p4-2, p2-2)\n",
      "9: move(p0-0, p1-0, p1-3, p0-3)\n",
      "10: move(p1-0, p2-0, p0-3, p0-2)\n",
      "11: move(p2-0, p3-0, p0-2, p0-1)\n",
      "12: move(p3-0, p3-1, p0-1, p0-0)\n",
      "13: move(p3-1, p4-1, p0-0, p1-0)\n",
      "14: move-and-eat(p4-1, p4-2, p2-2, dummypoint)\n",
      "15: move(p4-2, p3-2, p1-0, p2-0)\n",
      "16: move-and-eat-no-spawn(p3-2, p2-2)\n",
      "\n"
     ]
    },
    {
     "data": {
      "text/plain": [
       "True"
      ]
     },
     "execution_count": 4,
     "metadata": {},
     "output_type": "execute_result"
    }
   ],
   "execution_count": 4
  },
  {
   "cell_type": "code",
   "source": [
    "psp_generator = DirectionalProblemReducedMazeProblemGenerator(problem_count=1, auto=True)\n",
    "psp_generator.display_images()"
   ],
   "metadata": {
    "collapsed": false,
    "ExecuteTime": {
     "end_time": "2024-04-05T01:23:01.674734Z",
     "start_time": "2024-04-05T01:23:01.473250Z"
    }
   },
   "id": "eb38a164efff230",
   "outputs": [
    {
     "name": "stdout",
     "output_type": "stream",
     "text": [
      "[DEBUG] reduced_maze environment generated successfully\n",
      "[DEBUG] problem added\n"
     ]
    },
    {
     "data": {
      "text/plain": [
       "<Figure size 2000x1000 with 1 Axes>"
      ],
      "image/png": "[encoded data removed]"
     },
     "metadata": {},
     "output_type": "display_data"
    }
   ],
   "execution_count": 5
  },
  {
   "cell_type": "code",
   "source": [
    "psp_generator.display_problems()\n",
    "# psp_generator.save_as_pddl()\n",
    "psp_generator.solve_each()"
   ],
   "metadata": {
    "collapsed": false,
    "ExecuteTime": {
     "end_time": "2024-04-05T01:23:01.801350Z",
     "start_time": "2024-04-05T01:23:01.675691Z"
    }
   },
   "id": "a8f2d76fdbdf0fe",
   "outputs": [
    {
     "name": "stdout",
     "output_type": "stream",
     "text": [
      "Problem 0:\n",
      "problem name = reduced_maze0\n",
      "\n",
      "types = [position]\n",
      "\n",
      "fluents = [\n",
      "  bool path[a=position, b=position]\n",
      "  bool at[x=position]\n",
      "]\n",
      "\n",
      "actions = [\n",
      "  action move(position x, position xn) {\n",
      "    preconditions = [\n",
      "      (at(x) and path(x, xn))\n",
      "    ]\n",
      "    effects = [\n",
      "      at(xn) := true\n",
      "      at(x) := false\n",
      "    ]\n",
      "  }\n",
      "]\n",
      "\n",
      "objects = [\n",
      "  position: [start, goal, d0, d1, u2, l3, u4, d5, d6, u7, r8, d7, u10, r11, d12, u13, l14, r14, l16, l13, r19, r20, l0]\n",
      "]\n",
      "\n",
      "initial fluents default = [\n",
      "  bool path[a=position, b=position] := false\n",
      "  bool at[x=position] := false\n",
      "]\n",
      "\n",
      "initial values = [\n",
      "  at(start) := true\n",
      "  path(start, d0) := true\n",
      "  path(d0, start) := true\n",
      "  path(d0, d1) := true\n",
      "  path(d1, u2) := true\n",
      "  path(u2, start) := true\n",
      "  path(u2, d1) := true\n",
      "  path(u2, l3) := true\n",
      "  path(l3, u4) := true\n",
      "  path(u4, d5) := true\n",
      "  path(d5, u4) := true\n",
      "  path(d5, d6) := true\n",
      "  path(d6, u7) := true\n",
      "  path(u7, u4) := true\n",
      "  path(u7, d6) := true\n",
      "  path(u7, r8) := true\n",
      "  path(r8, start) := true\n",
      "  path(r8, d1) := true\n",
      "  path(r8, l3) := true\n",
      "  path(d6, d7) := true\n",
      "  path(d7, u10) := true\n",
      "  path(u10, u7) := true\n",
      "  path(u10, d7) := true\n",
      "  path(u10, r11) := true\n",
      "  path(r11, u2) := true\n",
      "  path(r11, d12) := true\n",
      "  path(d12, u13) := true\n",
      "  path(u13, u2) := true\n",
      "  path(u13, d12) := true\n",
      "  path(u13, l14) := true\n",
      "  path(l14, u7) := true\n",
      "  path(l14, d7) := true\n",
      "  path(l14, r11) := true\n",
      "  path(u13, r14) := true\n",
      "  path(r14, l16) := true\n",
      "  path(l16, u2) := true\n",
      "  path(l16, d12) := true\n",
      "  path(l16, l14) := true\n",
      "  path(l16, r14) := true\n",
      "  path(d12, l13) := true\n",
      "  path(l13, u10) := true\n",
      "  path(l13, goal) := true\n",
      "  path(goal, r19) := true\n",
      "  path(r19, u10) := true\n",
      "  path(r19, goal) := true\n",
      "  path(r19, r20) := true\n",
      "  path(r20, u13) := true\n",
      "  path(r20, l13) := true\n",
      "  path(l13, r20) := true\n",
      "  path(r11, l14) := true\n",
      "  path(r11, r14) := true\n",
      "  path(d7, goal) := true\n",
      "  path(d7, r20) := true\n",
      "  path(d6, r11) := true\n",
      "  path(d5, r8) := true\n",
      "  path(u4, start) := true\n",
      "  path(l3, d6) := true\n",
      "  path(l3, r8) := true\n",
      "  path(d1, d12) := true\n",
      "  path(d1, l14) := true\n",
      "  path(d1, r14) := true\n",
      "  path(d0, l3) := true\n",
      "  path(start, l0) := true\n",
      "  path(l0, d5) := true\n",
      "  path(l0, start) := true\n",
      "]\n",
      "\n",
      "goals = [\n",
      "  at(goal)\n",
      "]\n",
      "\n",
      "\n",
      "Plan 1:\n",
      "Status: PlanGenerationResultStatus.SOLVED_SATISFICING\n",
      "Found plan with 5 steps!\n",
      "0: move(start, d0)\n",
      "1: move(d0, d1)\n",
      "2: move(d1, d12)\n",
      "3: move(d12, l13)\n",
      "4: move(l13, goal)\n",
      "\n"
     ]
    },
    {
     "data": {
      "text/plain": [
       "True"
      ]
     },
     "execution_count": 6,
     "metadata": {},
     "output_type": "execute_result"
    }
   ],
   "execution_count": 6
  },
  {
   "cell_type": "markdown",
   "source": [
    "### Multiple problems using Generalised Planning"
   ],
   "metadata": {
    "collapsed": false
   },
   "id": "65b63706cb674e6b"
  },
  {
   "cell_type": "code",
   "source": [
    "snake_generator = SnakeProblemGenerator(problem_count=1, auto=True)\n",
    "snake_generator.display_images()\n",
    "snake_generator.solve_each()"
   ],
   "metadata": {
    "collapsed": false,
    "ExecuteTime": {
     "end_time": "2024-04-05T01:23:03.676353Z",
     "start_time": "2024-04-05T01:23:01.802465Z"
    }
   },
   "id": "26095d65fc3dc866",
   "outputs": [
    {
     "name": "stdout",
     "output_type": "stream",
     "text": [
      "[DEBUG] snake environment generated successfully\n",
      "[DEBUG] problem added\n",
      "Plan 1:\n",
      "Status: PlanGenerationResultStatus.SOLVED_SATISFICING\n",
      "Found plan with 23 steps!\n",
      "0: move(p0-4, p0-3, p1-4, p0-4)\n",
      "1: move(p0-3, p1-3, p0-4, p0-3)\n",
      "2: move(p1-3, p2-3, p0-3, p1-3)\n",
      "3: move-and-eat(p2-3, p3-3, p2-0, p1-0)\n",
      "4: move(p3-3, p3-2, p1-3, p2-3)\n",
      "5: move(p3-2, p3-1, p2-3, p3-3)\n",
      "6: move(p3-1, p2-1, p3-3, p3-2)\n",
      "7: move-and-eat(p2-1, p2-0, p1-0, p3-0)\n",
      "8: move-and-eat(p2-0, p1-0, p3-0, p1-4)\n",
      "9: move(p1-0, p0-0, p3-2, p3-1)\n",
      "10: move(p0-0, p0-1, p3-1, p2-1)\n",
      "11: move(p0-1, p1-1, p2-1, p2-0)\n",
      "12: move(p1-1, p2-1, p2-0, p1-0)\n",
      "13: move(p2-1, p3-1, p1-0, p0-0)\n",
      "14: move-and-eat(p3-1, p3-0, p1-4, dummypoint)\n",
      "15: move(p3-0, p4-0, p0-0, p0-1)\n",
      "16: move(p4-0, p4-1, p0-1, p1-1)\n",
      "17: move(p4-1, p4-2, p1-1, p2-1)\n",
      "18: move(p4-2, p3-2, p2-1, p3-1)\n",
      "19: move(p3-2, p3-3, p3-1, p3-0)\n",
      "20: move(p3-3, p2-3, p3-0, p4-0)\n",
      "21: move(p2-3, p2-4, p4-0, p4-1)\n",
      "22: move-and-eat-no-spawn(p2-4, p1-4)\n",
      "\n"
     ]
    },
    {
     "data": {
      "text/plain": [
       "True"
      ]
     },
     "execution_count": 7,
     "metadata": {},
     "output_type": "execute_result"
    },
    {
     "data": {
      "text/plain": [
       "<Figure size 2000x1000 with 1 Axes>"
      ],
      "image/png": "[encoded data removed]"
     },
     "metadata": {},
     "output_type": "display_data"
    }
   ],
   "execution_count": 7
  },
  {
   "cell_type": "code",
   "source": [
    "psp_generator = DirectionalProblemReducedMazeProblemGenerator(problem_count=3, auto=True)\n",
    "psp_generator.display_images()"
   ],
   "metadata": {
    "collapsed": false,
    "is_executing": true,
    "ExecuteTime": {
     "end_time": "2024-04-05T01:23:04.460101Z",
     "start_time": "2024-04-05T01:23:03.677096Z"
    }
   },
   "id": "77c8581e13d8d309",
   "outputs": [
    {
     "name": "stdout",
     "output_type": "stream",
     "text": [
      "[DEBUG] reduced_maze environment generated successfully\n",
      "[DEBUG] problem added\n",
      "[DEBUG] reduced_maze environment generated successfully\n",
      "[DEBUG] problem added\n",
      "[DEBUG] reduced_maze environment generated successfully\n",
      "[DEBUG] problem added\n"
     ]
    },
    {
     "data": {
      "text/plain": [
       "<Figure size 2000x1000 with 3 Axes>"
      ],
      "image/png": "[encoded data removed]"
     },
     "metadata": {},
     "output_type": "display_data"
    }
   ],
   "execution_count": 8
  },
  {
   "cell_type": "code",
   "source": "psp_generator.solve_each()",
   "metadata": {
    "collapsed": false,
    "ExecuteTime": {
     "end_time": "2024-04-05T01:23:05.129681Z",
     "start_time": "2024-04-05T01:23:04.460898Z"
    }
   },
   "id": "4455de74ac76c177",
   "outputs": [
    {
     "name": "stdout",
     "output_type": "stream",
     "text": [
      "Plan 1:\n",
      "Status: PlanGenerationResultStatus.SOLVED_SATISFICING\n",
      "Found plan with 6 steps!\n",
      "0: move(start, d0)\n",
      "1: move(d0, d28)\n",
      "2: move(d28, d54)\n",
      "3: move(d54, r59)\n",
      "4: move(r59, r60)\n",
      "5: move(r60, goal)\n",
      "\n",
      "Plan 2:\n",
      "Status: PlanGenerationResultStatus.SOLVED_SATISFICING\n",
      "Found plan with 5 steps!\n",
      "0: move(start, l0)\n",
      "1: move(l0, l1)\n",
      "2: move(l1, l2)\n",
      "3: move(l2, u3)\n",
      "4: move(u3, goal)\n",
      "\n",
      "Plan 3:\n",
      "Status: PlanGenerationResultStatus.SOLVED_SATISFICING\n",
      "Found plan with 5 steps!\n",
      "0: move(start, l0)\n",
      "1: move(l0, d6)\n",
      "2: move(d6, d7)\n",
      "3: move(d7, l22)\n",
      "4: move(l22, goal)\n",
      "\n"
     ]
    },
    {
     "data": {
      "text/plain": [
       "True"
      ]
     },
     "execution_count": 9,
     "metadata": {},
     "output_type": "execute_result"
    }
   ],
   "execution_count": 9
  },
  {
   "metadata": {
    "ExecuteTime": {
     "end_time": "2024-04-05T01:23:05.482884Z",
     "start_time": "2024-04-05T01:23:05.130385Z"
    }
   },
   "cell_type": "code",
   "source": [
    "psp_generator = NonDirectionalProblemReducedMazeProblemGenerator(problem_count=2, auto=True)\n",
    "psp_generator.display_images()"
   ],
   "id": "3990ad7e94352620",
   "outputs": [
    {
     "name": "stdout",
     "output_type": "stream",
     "text": [
      "[DEBUG] reduced_maze environment generated successfully\n",
      "[DEBUG] problem added\n",
      "[DEBUG] reduced_maze environment generated successfully\n",
      "[DEBUG] problem added\n"
     ]
    },
    {
     "data": {
      "text/plain": [
       "<Figure size 2000x1000 with 2 Axes>"
      ],
      "image/png": "[encoded data removed]"
     },
     "metadata": {},
     "output_type": "display_data"
    }
   ],
   "execution_count": 10
  },
  {
   "metadata": {
    "ExecuteTime": {
     "end_time": "2024-04-05T01:23:05.699617Z",
     "start_time": "2024-04-05T01:23:05.484097Z"
    }
   },
   "cell_type": "code",
   "source": "psp_generator.solve_each()",
   "id": "848d47d99419f40a",
   "outputs": [
    {
     "name": "stdout",
     "output_type": "stream",
     "text": [
      "Plan 1:\n",
      "Status: PlanGenerationResultStatus.SOLVED_SATISFICING\n",
      "Found plan with 1 steps!\n",
      "0: move(p1-1, p1-2)\n",
      "\n",
      "Plan 2:\n",
      "Status: PlanGenerationResultStatus.SOLVED_SATISFICING\n",
      "Found plan with 2 steps!\n",
      "0: move(p1-2, p1-1)\n",
      "1: move(p1-1, p1-0)\n",
      "\n"
     ]
    },
    {
     "data": {
      "text/plain": [
       "True"
      ]
     },
     "execution_count": 11,
     "metadata": {},
     "output_type": "execute_result"
    }
   ],
   "execution_count": 11
  },
  {
   "metadata": {
    "ExecuteTime": {
     "end_time": "2024-04-05T01:23:05.701949Z",
     "start_time": "2024-04-05T01:23:05.700400Z"
    }
   },
   "cell_type": "code",
   "source": "",
   "id": "4dcf8e6f39956421",
   "outputs": [],
   "execution_count": 11
  },
  {
   "metadata": {
    "ExecuteTime": {
     "end_time": "2024-04-05T01:25:00.378541Z",
     "start_time": "2024-04-05T01:24:47.406089Z"
    }
   },
   "cell_type": "code",
   "source": [
    "from experiments import tile_size_experiment_classical\n",
    "\n",
    "tile_size_experiment_classical(NonDirectionalProblemReducedMazeProblemGenerator)"
   ],
   "id": "6c479860d241c1b2",
   "outputs": [
    {
     "name": "stdout",
     "output_type": "stream",
     "text": [
      "[DEBUG] reduced_maze environment generated successfully\n",
      "[DEBUG] problem added\n",
      "Plan 1:\n",
      "Status: PlanGenerationResultStatus.SOLVED_SATISFICING\n",
      "Found plan with 1 steps!\n",
      "0: move(p0-1, p1-1)\n",
      "\n",
      "[DEBUG] reduced_maze environment generated successfully\n",
      "[DEBUG] problem added\n",
      "Plan 1:\n",
      "Status: PlanGenerationResultStatus.SOLVED_SATISFICING\n",
      "Found plan with 3 steps!\n",
      "0: move(p0-0, p0-1)\n",
      "1: move(p0-1, p1-1)\n",
      "2: move(p1-1, p1-2)\n",
      "\n",
      "[DEBUG] reduced_maze environment generated successfully\n",
      "[DEBUG] problem added\n",
      "Plan 1:\n",
      "Status: PlanGenerationResultStatus.SOLVED_SATISFICING\n",
      "Found plan with 4 steps!\n",
      "0: move(p3-3, p2-3)\n",
      "1: move(p2-3, p2-2)\n",
      "2: move(p2-2, p1-2)\n",
      "3: move(p1-2, p1-1)\n",
      "\n",
      "[DEBUG] reduced_maze environment generated successfully\n",
      "[DEBUG] problem added\n",
      "Plan 1:\n",
      "Status: PlanGenerationResultStatus.SOLVED_SATISFICING\n",
      "Found plan with 3 steps!\n",
      "0: move(p2-2, p1-2)\n",
      "1: move(p1-2, p1-3)\n",
      "2: move(p1-3, p0-3)\n",
      "\n",
      "[DEBUG] reduced_maze environment generated successfully\n",
      "[DEBUG] problem added\n",
      "Plan 1:\n",
      "Status: PlanGenerationResultStatus.SOLVED_SATISFICING\n",
      "Found plan with 6 steps!\n",
      "0: move(p3-0, p2-0)\n",
      "1: move(p2-0, p2-1)\n",
      "2: move(p2-1, p2-2)\n",
      "3: move(p2-2, p2-3)\n",
      "4: move(p2-3, p1-3)\n",
      "5: move(p1-3, p0-3)\n",
      "\n",
      "[DEBUG] reduced_maze environment generated successfully\n",
      "[DEBUG] problem added\n",
      "Plan 1:\n",
      "Status: PlanGenerationResultStatus.SOLVED_SATISFICING\n",
      "Found plan with 3 steps!\n",
      "0: move(p1-0, p1-1)\n",
      "1: move(p1-1, p2-1)\n",
      "2: move(p2-1, p2-2)\n",
      "\n"
     ]
    },
    {
     "ename": "KeyboardInterrupt",
     "evalue": "",
     "output_type": "error",
     "traceback": [
      "\u001B[0;31m---------------------------------------------------------------------------\u001B[0m",
      "\u001B[0;31mKeyboardInterrupt\u001B[0m                         Traceback (most recent call last)",
      "Cell \u001B[0;32mIn[13], line 3\u001B[0m\n\u001B[1;32m      1\u001B[0m \u001B[38;5;28;01mfrom\u001B[39;00m \u001B[38;5;21;01mexperiments\u001B[39;00m \u001B[38;5;28;01mimport\u001B[39;00m tile_size_experiment_classical\n\u001B[0;32m----> 3\u001B[0m \u001B[43mtile_size_experiment_classical\u001B[49m\u001B[43m(\u001B[49m\u001B[43mNonDirectionalProblemReducedMazeProblemGenerator\u001B[49m\u001B[43m)\u001B[49m\n",
      "File \u001B[0;32m~/PycharmProjects/generalised-planning-to-solve-games/experiments.py:31\u001B[0m, in \u001B[0;36mtile_size_experiment_classical\u001B[0;34m(generator, min_size, max_size, step)\u001B[0m\n\u001B[1;32m     29\u001B[0m tile_sizes \u001B[38;5;241m=\u001B[39m np\u001B[38;5;241m.\u001B[39marray([])\n\u001B[1;32m     30\u001B[0m \u001B[38;5;28;01mfor\u001B[39;00m i \u001B[38;5;129;01min\u001B[39;00m \u001B[38;5;28mrange\u001B[39m(min_size, max_size, step):\n\u001B[0;32m---> 31\u001B[0m     current_generator \u001B[38;5;241m=\u001B[39m \u001B[43mgenerator\u001B[49m\u001B[43m(\u001B[49m\u001B[43mauto\u001B[49m\u001B[38;5;241;43m=\u001B[39;49m\u001B[38;5;28;43;01mTrue\u001B[39;49;00m\u001B[43m,\u001B[49m\u001B[43m \u001B[49m\u001B[43mtile_size\u001B[49m\u001B[38;5;241;43m=\u001B[39;49m\u001B[43mi\u001B[49m\u001B[43m,\u001B[49m\u001B[43m \u001B[49m\u001B[43mproblem_count\u001B[49m\u001B[38;5;241;43m=\u001B[39;49m\u001B[38;5;241;43m1\u001B[39;49m\u001B[43m)\u001B[49m\n\u001B[1;32m     32\u001B[0m     start \u001B[38;5;241m=\u001B[39m time\u001B[38;5;241m.\u001B[39mtime()\n\u001B[1;32m     33\u001B[0m     feedback \u001B[38;5;241m=\u001B[39m _limit_time(current_generator\u001B[38;5;241m.\u001B[39msolve_each)\n",
      "File \u001B[0;32m~/PycharmProjects/generalised-planning-to-solve-games/generators.py:399\u001B[0m, in \u001B[0;36mNonDirectionalProblemReducedMazeProblemGenerator.__init__\u001B[0;34m(self, **options)\u001B[0m\n\u001B[1;32m    398\u001B[0m \u001B[38;5;28;01mdef\u001B[39;00m \u001B[38;5;21m__init__\u001B[39m(\u001B[38;5;28mself\u001B[39m, \u001B[38;5;241m*\u001B[39m\u001B[38;5;241m*\u001B[39moptions):\n\u001B[0;32m--> 399\u001B[0m     \u001B[38;5;28;43msuper\u001B[39;49m\u001B[43m(\u001B[49m\u001B[43m)\u001B[49m\u001B[38;5;241;43m.\u001B[39;49m\u001B[38;5;21;43m__init__\u001B[39;49m\u001B[43m(\u001B[49m\u001B[38;5;124;43m\"\u001B[39;49m\u001B[38;5;124;43mreduced_maze\u001B[39;49m\u001B[38;5;124;43m\"\u001B[39;49m\u001B[43m,\u001B[49m\u001B[43m \u001B[49m\u001B[38;5;241;43m*\u001B[39;49m\u001B[38;5;241;43m*\u001B[39;49m\u001B[43moptions\u001B[49m\u001B[43m)\u001B[49m\n",
      "File \u001B[0;32m~/PycharmProjects/generalised-planning-to-solve-games/generators.py:154\u001B[0m, in \u001B[0;36m_MazeProblemGenerator.__init__\u001B[0;34m(self, domain_path, **options)\u001B[0m\n\u001B[1;32m    153\u001B[0m \u001B[38;5;28;01mdef\u001B[39;00m \u001B[38;5;21m__init__\u001B[39m(\u001B[38;5;28mself\u001B[39m, domain_path, \u001B[38;5;241m*\u001B[39m\u001B[38;5;241m*\u001B[39moptions):\n\u001B[0;32m--> 154\u001B[0m     \u001B[38;5;28;43msuper\u001B[39;49m\u001B[43m(\u001B[49m\u001B[43m)\u001B[49m\u001B[38;5;241;43m.\u001B[39;49m\u001B[38;5;21;43m__init__\u001B[39;49m\u001B[43m(\u001B[49m\u001B[43mdomain_path\u001B[49m\u001B[43m,\u001B[49m\u001B[43m \u001B[49m\u001B[38;5;241;43m*\u001B[39;49m\u001B[38;5;241;43m*\u001B[39;49m\u001B[43moptions\u001B[49m\u001B[43m)\u001B[49m\n",
      "File \u001B[0;32m~/PycharmProjects/generalised-planning-to-solve-games/generators.py:26\u001B[0m, in \u001B[0;36mProblemGenerator.__init__\u001B[0;34m(self, domain_path, **options)\u001B[0m\n\u001B[1;32m     24\u001B[0m \u001B[38;5;28mself\u001B[39m\u001B[38;5;241m.\u001B[39m_option_manager \u001B[38;5;241m=\u001B[39m OptionManager()\n\u001B[1;32m     25\u001B[0m \u001B[38;5;28mself\u001B[39m\u001B[38;5;241m.\u001B[39m_set_arguments(\u001B[38;5;241m*\u001B[39m\u001B[38;5;241m*\u001B[39moptions)\n\u001B[0;32m---> 26\u001B[0m \u001B[38;5;28;43mself\u001B[39;49m\u001B[38;5;241;43m.\u001B[39;49m\u001B[43m_set_problems\u001B[49m\u001B[43m(\u001B[49m\u001B[43m)\u001B[49m\n\u001B[1;32m     27\u001B[0m get_environment()\u001B[38;5;241m.\u001B[39mcredits_stream \u001B[38;5;241m=\u001B[39m \u001B[38;5;28;01mNone\u001B[39;00m\n",
      "File \u001B[0;32m~/PycharmProjects/generalised-planning-to-solve-games/generators.py:47\u001B[0m, in \u001B[0;36mProblemGenerator._set_problems\u001B[0;34m(self)\u001B[0m\n\u001B[1;32m     45\u001B[0m \u001B[38;5;28;01mfor\u001B[39;00m i \u001B[38;5;129;01min\u001B[39;00m \u001B[38;5;28mrange\u001B[39m(\u001B[38;5;28mself\u001B[39m\u001B[38;5;241m.\u001B[39m_problem_count):\n\u001B[1;32m     46\u001B[0m     pygame\u001B[38;5;241m.\u001B[39minit()\n\u001B[0;32m---> 47\u001B[0m     environment \u001B[38;5;241m=\u001B[39m \u001B[38;5;28;43mself\u001B[39;49m\u001B[38;5;241;43m.\u001B[39;49m\u001B[43m_generate_environment\u001B[49m\u001B[43m(\u001B[49m\u001B[43m)\u001B[49m\n\u001B[1;32m     48\u001B[0m     \u001B[38;5;28mself\u001B[39m\u001B[38;5;241m.\u001B[39m_environments\u001B[38;5;241m.\u001B[39mappend(environment)\n\u001B[1;32m     49\u001B[0m     \u001B[38;5;28mself\u001B[39m\u001B[38;5;241m.\u001B[39m_add_problem(environment)\n",
      "File \u001B[0;32m~/PycharmProjects/generalised-planning-to-solve-games/generators.py:64\u001B[0m, in \u001B[0;36mProblemGenerator._generate_environment\u001B[0;34m(self)\u001B[0m\n\u001B[1;32m     63\u001B[0m \u001B[38;5;28;01mdef\u001B[39;00m \u001B[38;5;21m_generate_environment\u001B[39m(\u001B[38;5;28mself\u001B[39m) \u001B[38;5;241m-\u001B[39m\u001B[38;5;241m>\u001B[39m Environment:\n\u001B[0;32m---> 64\u001B[0m     \u001B[38;5;28;01mreturn\u001B[39;00m \u001B[38;5;28;43mself\u001B[39;49m\u001B[38;5;241;43m.\u001B[39;49m\u001B[43m_generate_environment_auto\u001B[49m\u001B[43m(\u001B[49m\u001B[43m)\u001B[49m \u001B[38;5;28;01mif\u001B[39;00m \u001B[38;5;28mself\u001B[39m\u001B[38;5;241m.\u001B[39m_auto \u001B[38;5;28;01melse\u001B[39;00m \u001B[38;5;28mself\u001B[39m\u001B[38;5;241m.\u001B[39m_generate_environment_manual()\n",
      "File \u001B[0;32m~/PycharmProjects/generalised-planning-to-solve-games/generators.py:255\u001B[0m, in \u001B[0;36m_MazeProblemGenerator._generate_environment_auto\u001B[0;34m(self)\u001B[0m\n\u001B[1;32m    253\u001B[0m current_tile \u001B[38;5;241m=\u001B[39m start\n\u001B[1;32m    254\u001B[0m \u001B[38;5;28;01mwhile\u001B[39;00m \u001B[38;5;28;01mTrue\u001B[39;00m:\n\u001B[0;32m--> 255\u001B[0m     current_tile \u001B[38;5;241m=\u001B[39m \u001B[43mTile\u001B[49m\u001B[43m(\u001B[49m\u001B[43mtile_position\u001B[49m\u001B[38;5;241;43m=\u001B[39;49m\u001B[43mrandom\u001B[49m\u001B[38;5;241;43m.\u001B[39;49m\u001B[43mchoice\u001B[49m\u001B[43m(\u001B[49m\u001B[43mcurrent_tile\u001B[49m\u001B[38;5;241;43m.\u001B[39;49m\u001B[43mget_neighbours\u001B[49m\u001B[43m(\u001B[49m\u001B[43m)\u001B[49m\u001B[43m)\u001B[49m\u001B[43m)\u001B[49m\n\u001B[1;32m    256\u001B[0m     \u001B[38;5;28;01mif\u001B[39;00m current_tile \u001B[38;5;241m==\u001B[39m goal:\n\u001B[1;32m    257\u001B[0m         \u001B[38;5;28;01mbreak\u001B[39;00m\n",
      "File \u001B[0;32m~/PycharmProjects/generalised-planning-to-solve-games/environment.py:27\u001B[0m, in \u001B[0;36mTile.__init__\u001B[0;34m(self, **position)\u001B[0m\n\u001B[1;32m     14\u001B[0m \u001B[38;5;28;01mdef\u001B[39;00m \u001B[38;5;21m__init__\u001B[39m(\u001B[38;5;28mself\u001B[39m, \u001B[38;5;241m*\u001B[39m\u001B[38;5;241m*\u001B[39mposition):\n\u001B[1;32m     15\u001B[0m \u001B[38;5;250m    \u001B[39m\u001B[38;5;124;03m\"\"\"\u001B[39;00m\n\u001B[1;32m     16\u001B[0m \u001B[38;5;124;03m    Tile object for compiling locations and Pygame attributes.\u001B[39;00m\n\u001B[1;32m     17\u001B[0m \u001B[38;5;124;03m    Arguments:\u001B[39;00m\n\u001B[0;32m   (...)\u001B[0m\n\u001B[1;32m     24\u001B[0m \u001B[38;5;124;03m    At least one must be specified.\u001B[39;00m\n\u001B[1;32m     25\u001B[0m \u001B[38;5;124;03m    \"\"\"\u001B[39;00m\n\u001B[0;32m---> 27\u001B[0m     \u001B[38;5;28mself\u001B[39m\u001B[38;5;241m.\u001B[39m_option_manager \u001B[38;5;241m=\u001B[39m \u001B[43mOptionManager\u001B[49m\u001B[43m(\u001B[49m\u001B[43m)\u001B[49m\n\u001B[1;32m     28\u001B[0m     \u001B[38;5;28mself\u001B[39m\u001B[38;5;241m.\u001B[39m_tile_size \u001B[38;5;241m=\u001B[39m \u001B[38;5;28mself\u001B[39m\u001B[38;5;241m.\u001B[39m_option_manager\u001B[38;5;241m.\u001B[39mget_tile_size()\n\u001B[1;32m     29\u001B[0m     \u001B[38;5;28mself\u001B[39m\u001B[38;5;241m.\u001B[39m_tile_width, \u001B[38;5;28mself\u001B[39m\u001B[38;5;241m.\u001B[39m_tile_height \u001B[38;5;241m=\u001B[39m (\n\u001B[1;32m     30\u001B[0m         WIDTH \u001B[38;5;241m/\u001B[39m\u001B[38;5;241m/\u001B[39m \u001B[38;5;28mself\u001B[39m\u001B[38;5;241m.\u001B[39m_tile_size,\n\u001B[1;32m     31\u001B[0m         HEIGHT \u001B[38;5;241m/\u001B[39m\u001B[38;5;241m/\u001B[39m \u001B[38;5;28mself\u001B[39m\u001B[38;5;241m.\u001B[39m_tile_size\n\u001B[1;32m     32\u001B[0m     )\n",
      "File \u001B[0;32m~/PycharmProjects/generalised-planning-to-solve-games/options.py:9\u001B[0m, in \u001B[0;36mOptionManager.__init__\u001B[0;34m(self, allow_no_value)\u001B[0m\n\u001B[1;32m      8\u001B[0m \u001B[38;5;28;01mdef\u001B[39;00m \u001B[38;5;21m__init__\u001B[39m(\u001B[38;5;28mself\u001B[39m, \u001B[38;5;241m*\u001B[39m, allow_no_value: Literal[\u001B[38;5;28;01mTrue\u001B[39;00m] \u001B[38;5;241m=\u001B[39m \u001B[38;5;28;01mTrue\u001B[39;00m):\n\u001B[0;32m----> 9\u001B[0m     \u001B[38;5;28;43msuper\u001B[39;49m\u001B[43m(\u001B[49m\u001B[43m)\u001B[49m\u001B[38;5;241;43m.\u001B[39;49m\u001B[38;5;21;43m__init__\u001B[39;49m\u001B[43m(\u001B[49m\u001B[43mallow_no_value\u001B[49m\u001B[38;5;241;43m=\u001B[39;49m\u001B[43mallow_no_value\u001B[49m\u001B[43m)\u001B[49m\n\u001B[1;32m     10\u001B[0m     \u001B[38;5;28mself\u001B[39m\u001B[38;5;241m.\u001B[39mread(\u001B[38;5;124m\"\u001B[39m\u001B[38;5;124mconfig.ini\u001B[39m\u001B[38;5;124m\"\u001B[39m)\n",
      "File \u001B[0;32m/usr/lib64/python3.11/configparser.py:621\u001B[0m, in \u001B[0;36mRawConfigParser.__init__\u001B[0;34m(self, defaults, dict_type, allow_no_value, delimiters, comment_prefixes, inline_comment_prefixes, strict, empty_lines_in_values, default_section, interpolation, converters)\u001B[0m\n\u001B[1;32m    619\u001B[0m \u001B[38;5;28mself\u001B[39m\u001B[38;5;241m.\u001B[39m_sections \u001B[38;5;241m=\u001B[39m \u001B[38;5;28mself\u001B[39m\u001B[38;5;241m.\u001B[39m_dict()\n\u001B[1;32m    620\u001B[0m \u001B[38;5;28mself\u001B[39m\u001B[38;5;241m.\u001B[39m_defaults \u001B[38;5;241m=\u001B[39m \u001B[38;5;28mself\u001B[39m\u001B[38;5;241m.\u001B[39m_dict()\n\u001B[0;32m--> 621\u001B[0m \u001B[38;5;28mself\u001B[39m\u001B[38;5;241m.\u001B[39m_converters \u001B[38;5;241m=\u001B[39m \u001B[43mConverterMapping\u001B[49m\u001B[43m(\u001B[49m\u001B[38;5;28;43mself\u001B[39;49m\u001B[43m)\u001B[49m\n\u001B[1;32m    622\u001B[0m \u001B[38;5;28mself\u001B[39m\u001B[38;5;241m.\u001B[39m_proxies \u001B[38;5;241m=\u001B[39m \u001B[38;5;28mself\u001B[39m\u001B[38;5;241m.\u001B[39m_dict()\n\u001B[1;32m    623\u001B[0m \u001B[38;5;28mself\u001B[39m\u001B[38;5;241m.\u001B[39m_proxies[default_section] \u001B[38;5;241m=\u001B[39m SectionProxy(\u001B[38;5;28mself\u001B[39m, default_section)\n",
      "File \u001B[0;32m/usr/lib64/python3.11/configparser.py:1339\u001B[0m, in \u001B[0;36mConverterMapping.__init__\u001B[0;34m(self, parser)\u001B[0m\n\u001B[1;32m   1337\u001B[0m \u001B[38;5;28mself\u001B[39m\u001B[38;5;241m.\u001B[39m_parser \u001B[38;5;241m=\u001B[39m parser\n\u001B[1;32m   1338\u001B[0m \u001B[38;5;28mself\u001B[39m\u001B[38;5;241m.\u001B[39m_data \u001B[38;5;241m=\u001B[39m {}\n\u001B[0;32m-> 1339\u001B[0m \u001B[38;5;28;01mfor\u001B[39;00m getter \u001B[38;5;129;01min\u001B[39;00m \u001B[38;5;28;43mdir\u001B[39;49m\u001B[43m(\u001B[49m\u001B[38;5;28;43mself\u001B[39;49m\u001B[38;5;241;43m.\u001B[39;49m\u001B[43m_parser\u001B[49m\u001B[43m)\u001B[49m:\n\u001B[1;32m   1340\u001B[0m     m \u001B[38;5;241m=\u001B[39m \u001B[38;5;28mself\u001B[39m\u001B[38;5;241m.\u001B[39mGETTERCRE\u001B[38;5;241m.\u001B[39mmatch(getter)\n\u001B[1;32m   1341\u001B[0m     \u001B[38;5;28;01mif\u001B[39;00m \u001B[38;5;129;01mnot\u001B[39;00m m \u001B[38;5;129;01mor\u001B[39;00m \u001B[38;5;129;01mnot\u001B[39;00m \u001B[38;5;28mcallable\u001B[39m(\u001B[38;5;28mgetattr\u001B[39m(\u001B[38;5;28mself\u001B[39m\u001B[38;5;241m.\u001B[39m_parser, getter)):\n",
      "\u001B[0;31mKeyboardInterrupt\u001B[0m: "
     ]
    }
   ],
   "execution_count": 13
  },
  {
   "metadata": {},
   "cell_type": "code",
   "outputs": [],
   "execution_count": null,
   "source": "",
   "id": "1fa3b3017ab25ff8"
  }
 ],
 "metadata": {
  "kernelspec": {
   "display_name": "Python 3",
   "language": "python",
   "name": "python3"
  },
  "language_info": {
   "codemirror_mode": {
    "name": "ipython",
    "version": 2
   },
   "file_extension": ".py",
   "mimetype": "text/x-python",
   "name": "python",
   "nbconvert_exporter": "python",
   "pygments_lexer": "ipython2",
   "version": "2.7.6"
  }
 },
 "nbformat": 4,
 "nbformat_minor": 5
}
