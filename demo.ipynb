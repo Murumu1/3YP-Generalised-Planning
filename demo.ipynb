{
 "cells": [
  {
   "cell_type": "markdown",
   "source": [
    "# Third Year Project 2023-24 Experiments\n",
    "#### Murtaza Daudali"
   ],
   "metadata": {
    "collapsed": false
   },
   "id": "51c0905ff07bf662"
  },
  {
   "cell_type": "markdown",
   "source": [
    "## Set-up\n",
    "Before compiling this notebook, please ensure you have all pre-requisite packages installed, this can be done by running:\n",
    "\n",
    "`pip install -r requirements.txt`"
   ],
   "metadata": {
    "collapsed": false
   },
   "id": "e408c583e6463518"
  },
  {
   "cell_type": "code",
   "source": [
    "from src.generators import DirectionalProblemReducedMazeProblemGenerator, SnakeProblemGenerator, NonDirectionalProblemReducedMazeProblemGenerator\n",
    "%matplotlib inline"
   ],
   "metadata": {
    "collapsed": false,
    "ExecuteTime": {
     "end_time": "2024-04-09T03:35:28.403179Z",
     "start_time": "2024-04-09T03:35:27.601027Z"
    }
   },
   "id": "f5cef981657e4060",
   "outputs": [
    {
     "name": "stdout",
     "output_type": "stream",
     "text": [
      "pygame 2.5.2 (SDL 2.28.2, Python 3.11.6)\n",
      "Hello from the pygame community. https://www.pygame.org/contribute.html\n"
     ]
    }
   ],
   "execution_count": 1
  },
  {
   "cell_type": "code",
   "source": [
    "snake_generator = SnakeProblemGenerator(problem_count=1, auto=True)\n",
    "snake_generator.display_images()"
   ],
   "metadata": {
    "collapsed": false,
    "ExecuteTime": {
     "end_time": "2024-04-09T03:35:28.881139Z",
     "start_time": "2024-04-09T03:35:28.404471Z"
    }
   },
   "id": "592399e8aca5e099",
   "outputs": [
    {
     "name": "stdout",
     "output_type": "stream",
     "text": [
      "[DEBUG] snake environment generated successfully\n",
      "[DEBUG] problem added\n"
     ]
    },
    {
     "data": {
      "text/plain": [
       "<Figure size 2000x1000 with 1 Axes>"
      ],
      "image/png": "[encoded data removed]"
     },
     "metadata": {},
     "output_type": "display_data"
    }
   ],
   "execution_count": 2
  },
  {
   "cell_type": "code",
   "source": "snake_generator.display_problems()",
   "metadata": {
    "collapsed": false,
    "ExecuteTime": {
     "end_time": "2024-04-09T03:35:28.885749Z",
     "start_time": "2024-04-09T03:35:28.882313Z"
    }
   },
   "id": "e811f1adf81d31da",
   "outputs": [
    {
     "name": "stdout",
     "output_type": "stream",
     "text": [
      "Problem 0:\n",
      "problem name = snake0\n",
      "\n",
      "types = [position]\n",
      "\n",
      "fluents = [\n",
      "  bool path[x=position, y=position]\n",
      "  bool head-at[x=position]\n",
      "  bool tail-at[x=position]\n",
      "  bool body-con[x=position, y=position]\n",
      "  bool blocked[x=position]\n",
      "  bool apple-at[x=position]\n",
      "  bool spawn-apple[x=position]\n",
      "  bool next-apple[x=position, y=position]\n",
      "]\n",
      "\n",
      "actions = [\n",
      "  action move(position head, position newhead, position tail, position newtail) {\n",
      "    preconditions = [\n",
      "      (head-at(head) and path(head, newhead) and tail-at(tail) and body-con(newtail, tail) and (not blocked(newhead)) and (not apple-at(newhead)))\n",
      "    ]\n",
      "    effects = [\n",
      "      blocked(newhead) := true\n",
      "      head-at(newhead) := true\n",
      "      body-con(newhead, head) := true\n",
      "      head-at(head) := false\n",
      "      blocked(tail) := false\n",
      "      tail-at(tail) := false\n",
      "      body-con(newtail, tail) := false\n",
      "      tail-at(newtail) := true\n",
      "    ]\n",
      "  }\n",
      "  action move-and-eat(position head, position newhead, position spawn, position nextspawn) {\n",
      "    preconditions = [\n",
      "      (head-at(head) and path(head, newhead) and (not blocked(newhead)) and apple-at(newhead) and spawn-apple(spawn) and next-apple(spawn, nextspawn) and (not (spawn == dummypoint)))\n",
      "    ]\n",
      "    effects = [\n",
      "      blocked(newhead) := true\n",
      "      head-at(newhead) := true\n",
      "      body-con(newhead, head) := true\n",
      "      head-at(head) := false\n",
      "      apple-at(newhead) := false\n",
      "      apple-at(spawn) := true\n",
      "      spawn-apple(spawn) := false\n",
      "      spawn-apple(nextspawn) := true\n",
      "    ]\n",
      "  }\n",
      "  action move-and-eat-no-spawn(position head, position newhead) {\n",
      "    preconditions = [\n",
      "      (head-at(head) and path(head, newhead) and (not blocked(newhead)) and apple-at(newhead) and spawn-apple(dummypoint))\n",
      "    ]\n",
      "    effects = [\n",
      "      blocked(newhead) := true\n",
      "      head-at(newhead) := true\n",
      "      body-con(newhead, head) := true\n",
      "      head-at(head) := false\n",
      "      apple-at(newhead) := false\n",
      "    ]\n",
      "  }\n",
      "]\n",
      "\n",
      "objects = [\n",
      "  position: [dummypoint, p0-0, p0-1, p0-2, p0-3, p0-4, p1-0, p1-1, p1-2, p1-3, p1-4, p2-0, p2-1, p2-2, p2-3, p2-4, p3-0, p3-1, p3-2, p3-3, p3-4, p4-0, p4-1, p4-2, p4-3, p4-4]\n",
      "]\n",
      "\n",
      "initial fluents default = [\n",
      "  bool path[x=position, y=position] := false\n",
      "  bool head-at[x=position] := false\n",
      "  bool tail-at[x=position] := false\n",
      "  bool body-con[x=position, y=position] := false\n",
      "  bool blocked[x=position] := false\n",
      "  bool apple-at[x=position] := false\n",
      "  bool spawn-apple[x=position] := false\n",
      "  bool next-apple[x=position, y=position] := false\n",
      "]\n",
      "\n",
      "initial values = [\n",
      "  path(p0-1, p0-0) := true\n",
      "  path(p0-0, p0-1) := true\n",
      "  path(p1-0, p0-0) := true\n",
      "  path(p0-0, p1-0) := true\n",
      "  path(p0-2, p0-1) := true\n",
      "  path(p0-1, p0-2) := true\n",
      "  path(p1-1, p0-1) := true\n",
      "  path(p0-1, p1-1) := true\n",
      "  path(p0-3, p0-2) := true\n",
      "  path(p0-2, p0-3) := true\n",
      "  path(p1-2, p0-2) := true\n",
      "  path(p0-2, p1-2) := true\n",
      "  path(p0-4, p0-3) := true\n",
      "  path(p0-3, p0-4) := true\n",
      "  path(p1-3, p0-3) := true\n",
      "  path(p0-3, p1-3) := true\n",
      "  path(p1-4, p0-4) := true\n",
      "  path(p0-4, p1-4) := true\n",
      "  path(p1-1, p1-0) := true\n",
      "  path(p1-0, p1-1) := true\n",
      "  path(p2-0, p1-0) := true\n",
      "  path(p1-0, p2-0) := true\n",
      "  path(p1-2, p1-1) := true\n",
      "  path(p1-1, p1-2) := true\n",
      "  path(p2-1, p1-1) := true\n",
      "  path(p1-1, p2-1) := true\n",
      "  path(p1-3, p1-2) := true\n",
      "  path(p1-2, p1-3) := true\n",
      "  path(p2-2, p1-2) := true\n",
      "  path(p1-2, p2-2) := true\n",
      "  path(p1-4, p1-3) := true\n",
      "  path(p1-3, p1-4) := true\n",
      "  path(p2-3, p1-3) := true\n",
      "  path(p1-3, p2-3) := true\n",
      "  path(p2-4, p1-4) := true\n",
      "  path(p1-4, p2-4) := true\n",
      "  path(p2-1, p2-0) := true\n",
      "  path(p2-0, p2-1) := true\n",
      "  path(p3-0, p2-0) := true\n",
      "  path(p2-0, p3-0) := true\n",
      "  path(p2-2, p2-1) := true\n",
      "  path(p2-1, p2-2) := true\n",
      "  path(p3-1, p2-1) := true\n",
      "  path(p2-1, p3-1) := true\n",
      "  path(p2-3, p2-2) := true\n",
      "  path(p2-2, p2-3) := true\n",
      "  path(p3-2, p2-2) := true\n",
      "  path(p2-2, p3-2) := true\n",
      "  path(p2-4, p2-3) := true\n",
      "  path(p2-3, p2-4) := true\n",
      "  path(p3-3, p2-3) := true\n",
      "  path(p2-3, p3-3) := true\n",
      "  path(p3-4, p2-4) := true\n",
      "  path(p2-4, p3-4) := true\n",
      "  path(p3-1, p3-0) := true\n",
      "  path(p3-0, p3-1) := true\n",
      "  path(p4-0, p3-0) := true\n",
      "  path(p3-0, p4-0) := true\n",
      "  path(p3-2, p3-1) := true\n",
      "  path(p3-1, p3-2) := true\n",
      "  path(p4-1, p3-1) := true\n",
      "  path(p3-1, p4-1) := true\n",
      "  path(p3-3, p3-2) := true\n",
      "  path(p3-2, p3-3) := true\n",
      "  path(p4-2, p3-2) := true\n",
      "  path(p3-2, p4-2) := true\n",
      "  path(p3-4, p3-3) := true\n",
      "  path(p3-3, p3-4) := true\n",
      "  path(p4-3, p3-3) := true\n",
      "  path(p3-3, p4-3) := true\n",
      "  path(p4-4, p3-4) := true\n",
      "  path(p3-4, p4-4) := true\n",
      "  path(p4-1, p4-0) := true\n",
      "  path(p4-0, p4-1) := true\n",
      "  path(p4-2, p4-1) := true\n",
      "  path(p4-1, p4-2) := true\n",
      "  path(p4-3, p4-2) := true\n",
      "  path(p4-2, p4-3) := true\n",
      "  path(p4-4, p4-3) := true\n",
      "  path(p4-3, p4-4) := true\n",
      "  head-at(p1-3) := true\n",
      "  tail-at(p1-4) := true\n",
      "  body-con(p1-3, p1-4) := true\n",
      "  blocked(p1-3) := true\n",
      "  blocked(p1-4) := true\n",
      "  apple-at(p0-2) := true\n",
      "  spawn-apple(p2-0) := true\n",
      "  next-apple(p2-0, p4-2) := true\n",
      "  next-apple(p4-2, p1-0) := true\n",
      "  next-apple(p1-0, p4-1) := true\n",
      "  next-apple(p4-1, dummypoint) := true\n",
      "]\n",
      "\n",
      "goals = [\n",
      "  (not apple-at(p0-2))\n",
      "  (not apple-at(p2-0))\n",
      "  (not apple-at(p4-2))\n",
      "  (not apple-at(p1-0))\n",
      "  (not apple-at(p4-1))\n",
      "]\n",
      "\n",
      "\n"
     ]
    }
   ],
   "execution_count": 3
  },
  {
   "cell_type": "code",
   "source": "snake_generator.solve_each();",
   "metadata": {
    "collapsed": false,
    "ExecuteTime": {
     "end_time": "2024-04-09T03:35:30.778210Z",
     "start_time": "2024-04-09T03:35:28.887469Z"
    }
   },
   "id": "e49a2491be3c91c6",
   "outputs": [
    {
     "name": "stdout",
     "output_type": "stream",
     "text": [
      "Plan 1:\n",
      "Status: PlanGenerationResultStatus.SOLVED_SATISFICING\n",
      "Found plan with 21 steps!\n",
      "0: move(p1-3, p0-3, p1-4, p1-3)\n",
      "1: move-and-eat(p0-3, p0-2, p2-0, p4-2)\n",
      "2: move(p0-2, p0-1, p1-3, p0-3)\n",
      "3: move(p0-1, p0-0, p0-3, p0-2)\n",
      "4: move(p0-0, p1-0, p0-2, p0-1)\n",
      "5: move-and-eat(p1-0, p2-0, p4-2, p1-0)\n",
      "6: move(p2-0, p3-0, p0-1, p0-0)\n",
      "7: move(p3-0, p3-1, p0-0, p1-0)\n",
      "8: move(p3-1, p3-2, p1-0, p2-0)\n",
      "9: move-and-eat(p3-2, p4-2, p1-0, p4-1)\n",
      "10: move(p4-2, p4-3, p2-0, p3-0)\n",
      "11: move(p4-3, p3-3, p3-0, p3-1)\n",
      "12: move(p3-3, p2-3, p3-1, p3-2)\n",
      "13: move(p2-3, p2-2, p3-2, p4-2)\n",
      "14: move(p2-2, p2-1, p4-2, p4-3)\n",
      "15: move(p2-1, p1-1, p4-3, p3-3)\n",
      "16: move-and-eat(p1-1, p1-0, p4-1, dummypoint)\n",
      "17: move(p1-0, p2-0, p3-3, p2-3)\n",
      "18: move(p2-0, p3-0, p2-3, p2-2)\n",
      "19: move(p3-0, p4-0, p2-2, p2-1)\n",
      "20: move-and-eat-no-spawn(p4-0, p4-1)\n",
      "\n"
     ]
    }
   ],
   "execution_count": 4
  },
  {
   "cell_type": "code",
   "source": [
    "psp_generator = DirectionalProblemReducedMazeProblemGenerator(problem_count=1, auto=True)\n",
    "psp_generator.display_images()"
   ],
   "metadata": {
    "collapsed": false,
    "ExecuteTime": {
     "end_time": "2024-04-09T03:35:31.022420Z",
     "start_time": "2024-04-09T03:35:30.779142Z"
    }
   },
   "id": "eb38a164efff230",
   "outputs": [
    {
     "name": "stdout",
     "output_type": "stream",
     "text": [
      "[DEBUG] reduced_maze environment generated successfully\n",
      "[DEBUG] problem added\n"
     ]
    },
    {
     "data": {
      "text/plain": [
       "<Figure size 2000x1000 with 1 Axes>"
      ],
      "image/png": "[encoded data removed]"
     },
     "metadata": {},
     "output_type": "display_data"
    }
   ],
   "execution_count": 5
  },
  {
   "cell_type": "code",
   "source": [
    "psp_generator.display_problems()\n",
    "psp_generator.solve_all();"
   ],
   "metadata": {
    "collapsed": false,
    "ExecuteTime": {
     "end_time": "2024-04-09T03:35:31.312816Z",
     "start_time": "2024-04-09T03:35:31.023535Z"
    }
   },
   "id": "a8f2d76fdbdf0fe",
   "outputs": [
    {
     "name": "stdout",
     "output_type": "stream",
     "text": [
      "Problem 0:\n",
      "problem name = reduced_maze0\n",
      "\n",
      "types = [position]\n",
      "\n",
      "fluents = [\n",
      "  bool path[a=position, b=position]\n",
      "  bool at[x=position]\n",
      "]\n",
      "\n",
      "actions = [\n",
      "  action move(position x, position xn) {\n",
      "    preconditions = [\n",
      "      (at(x) and path(x, xn))\n",
      "    ]\n",
      "    effects = [\n",
      "      at(xn) := true\n",
      "      at(x) := false\n",
      "    ]\n",
      "  }\n",
      "]\n",
      "\n",
      "objects = [\n",
      "  position: [start, goal, r0, d2]\n",
      "]\n",
      "\n",
      "initial fluents default = [\n",
      "  bool path[a=position, b=position] := false\n",
      "  bool at[x=position] := false\n",
      "]\n",
      "\n",
      "initial values = [\n",
      "  at(start) := true\n",
      "  path(start, r0) := true\n",
      "  path(r0, goal) := true\n",
      "  path(goal, d2) := true\n",
      "  path(d2, goal) := true\n",
      "  path(d2, start) := true\n",
      "  path(r0, start) := true\n",
      "]\n",
      "\n",
      "goals = [\n",
      "  at(goal)\n",
      "]\n",
      "\n",
      "\n",
      "/home/murumu1/.local/lib/python3.11/site-packages/up_bfgp/bfgp_pp/main.bin -m synthesis -t cpp -f ../../plan_temp/ -s 0 -l 10 -o ../../plan_temp//dk -pgp True\n",
      "[INFO] Parsed domain. [0.000s]\n",
      "[INFO] Building theory: cpp\n",
      "[INFO] Generalized Domain created. [0.000s]\n",
      "[INFO] Infinite detection: deactivated\n",
      "[INFO] Generalized Planning Problem created. [0.000s]\n",
      "[INFO] Evaluation function ed added.\n",
      "[INFO] Evaluation function ilc added.\n",
      "[INFO] Engine created. [0.000s]\n",
      "[INFO] Searching...\n",
      "[ENGINE]\n",
      "Node id=0\n",
      "Expanded=1\n",
      "Evaluated=1\n",
      "Open queue size=0\n",
      "[NODE]: f1=1 f2=0\n",
      "0. empty\n",
      "1. empty\n",
      "2. empty\n",
      "3. empty\n",
      "4. empty\n",
      "5. empty\n",
      "6. empty\n",
      "7. empty\n",
      "8. empty\n",
      "9. end\n",
      "\n",
      "[ENGINE]\n",
      "Node id=1\n",
      "Expanded=2\n",
      "Evaluated=44\n",
      "Open queue size=42\n",
      "[NODE]: f1=1 f2=-1\n",
      "0. for(ptr_position_0++,8)\n",
      "1. empty\n",
      "2. empty\n",
      "3. empty\n",
      "4. empty\n",
      "5. empty\n",
      "6. empty\n",
      "7. empty\n",
      "8. endfor(ptr_position_0++,0)\n",
      "9. end\n",
      "\n",
      "[ENGINE]\n",
      "Node id=44\n",
      "Expanded=3\n",
      "Evaluated=66\n",
      "Open queue size=63\n",
      "[NODE]: f1=1 f2=-2\n",
      "0. for(ptr_position_0++,8)\n",
      "1. for(ptr_position_1++,7)\n",
      "2. empty\n",
      "3. empty\n",
      "4. empty\n",
      "5. empty\n",
      "6. empty\n",
      "7. endfor(ptr_position_1++,1)\n",
      "8. endfor(ptr_position_0++,0)\n",
      "9. end\n",
      "\n",
      "[ENGINE]\n",
      "Node id=294\n",
      "Expanded=43\n",
      "Evaluated=310\n",
      "Open queue size=267\n",
      "[NODE]: f1=1 f2=-3\n",
      "0. for(ptr_position_0++,8)\n",
      "1. for(ptr_position_1++,3)\n",
      "2. move(ptr_position_0,ptr_position_1)\n",
      "3. endfor(ptr_position_1++,1)\n",
      "4. for(ptr_position_1++,7)\n",
      "5. empty\n",
      "6. empty\n",
      "7. endfor(ptr_position_1++,4)\n",
      "8. endfor(ptr_position_0++,0)\n",
      "9. end\n",
      "\n",
      "[INFO] Solution candidate!\n",
      "[NODE]: f1=0 f2=-3\n",
      "0. for(ptr_position_0++,8)\n",
      "1. for(ptr_position_1++,3)\n",
      "2. move(ptr_position_0,ptr_position_1)\n",
      "3. endfor(ptr_position_1++,1)\n",
      "4. for(ptr_position_1--,7)\n",
      "5. move(ptr_position_1,ptr_position_0)\n",
      "6. move(ptr_position_0,ptr_position_1)\n",
      "7. endfor(ptr_position_1--,4)\n",
      "8. endfor(ptr_position_0++,0)\n",
      "9. end\n",
      "[INFO] SOLUTION FOUND!!!\n",
      "0. for(ptr_position_0++,8)\n",
      "1. for(ptr_position_1++,3)\n",
      "2. move(ptr_position_0,ptr_position_1)\n",
      "3. endfor(ptr_position_1++,1)\n",
      "4. for(ptr_position_1--,7)\n",
      "5. move(ptr_position_1,ptr_position_0)\n",
      "6. move(ptr_position_0,ptr_position_1)\n",
      "7. endfor(ptr_position_1--,4)\n",
      "8. endfor(ptr_position_0++,0)\n",
      "9. end\n",
      "\n",
      "[INFO] Number of instances: 1\n",
      "[INFO] Expanded: 52\n",
      "[INFO] Evaluated: 319\n",
      "[INFO] Total plan costs: 6\n",
      "[INFO] Total number of instructions: 93\n",
      "[INFO] Search time: [0.007s]\n",
      "[INFO] Total time: [0.007s]\n",
      "[INFO] Program file: ../../plan_temp//dk.prog\n",
      "[INFO] Experiments file: ../../plan_temp//dk.out\n",
      "/home/murumu1/.local/lib/python3.11/site-packages/up_bfgp/bfgp_pp/main.bin -m validation-prog -t cpp -f ../../plan_temp/ -s 0 -p ../../plan_temp//dk.prog  -o ../../plan_temp/  -plans True\n",
      "[INFO] Parsed domain. [0.000s]\n",
      "[INFO] Building theory: cpp\n",
      "[INFO] Generalized Domain created. [0.000s]\n",
      "[INFO] Infinite detection: deactivated\n",
      "[INFO] Generalized Planning Problem created. [0.000s]\n",
      "[INFO] Program loaded: [0.000s]\n",
      "[INFO] Read program:\n",
      "0. for(ptr_position_0++,8)\n",
      "1. for(ptr_position_1++,3)\n",
      "2. move(ptr_position_0,ptr_position_1)\n",
      "3. endfor(ptr_position_1++,1)\n",
      "4. for(ptr_position_1--,7)\n",
      "5. move(ptr_position_1,ptr_position_0)\n",
      "6. move(ptr_position_0,ptr_position_1)\n",
      "7. endfor(ptr_position_1--,4)\n",
      "8. endfor(ptr_position_0++,0)\n",
      "9. end\n",
      "\n",
      "[INFO] Number of instances: 1\n",
      "[INFO] GOAL ACHIEVED!\n",
      "[INFO] Total time: [0.000s]\n",
      "Plan found successfully\n"
     ]
    }
   ],
   "execution_count": 6
  },
  {
   "cell_type": "markdown",
   "source": [
    "### Multiple problems using Generalised Planning"
   ],
   "metadata": {
    "collapsed": false
   },
   "id": "65b63706cb674e6b"
  },
  {
   "cell_type": "code",
   "source": [
    "snake_generator = SnakeProblemGenerator(problem_count=1, auto=True)\n",
    "snake_generator.display_images()\n",
    "snake_generator.solve_each();"
   ],
   "metadata": {
    "collapsed": false,
    "ExecuteTime": {
     "end_time": "2024-04-09T03:35:33.432636Z",
     "start_time": "2024-04-09T03:35:31.313631Z"
    }
   },
   "id": "26095d65fc3dc866",
   "outputs": [
    {
     "name": "stdout",
     "output_type": "stream",
     "text": [
      "[DEBUG] snake environment generated successfully\n",
      "[DEBUG] problem added\n",
      "Plan 1:\n",
      "Status: PlanGenerationResultStatus.SOLVED_SATISFICING\n",
      "Found plan with 17 steps!\n",
      "0: move(p1-3, p1-2, p1-4, p1-3)\n",
      "1: move(p1-2, p2-2, p1-3, p1-2)\n",
      "2: move(p2-2, p2-1, p1-2, p2-2)\n",
      "3: move(p2-1, p3-1, p2-2, p2-1)\n",
      "4: move(p3-1, p3-0, p2-1, p3-1)\n",
      "5: move-and-eat(p3-0, p4-0, p4-4, p2-3)\n",
      "6: move(p4-0, p4-1, p3-1, p3-0)\n",
      "7: move(p4-1, p4-2, p3-0, p4-0)\n",
      "8: move(p4-2, p4-3, p4-0, p4-1)\n",
      "9: move-and-eat(p4-3, p4-4, p2-3, p2-2)\n",
      "10: move(p4-4, p3-4, p4-1, p4-2)\n",
      "11: move(p3-4, p2-4, p4-2, p4-3)\n",
      "12: move-and-eat(p2-4, p2-3, p2-2, p4-1)\n",
      "13: move-and-eat(p2-3, p2-2, p4-1, dummypoint)\n",
      "14: move(p2-2, p3-2, p4-3, p4-4)\n",
      "15: move(p3-2, p4-2, p4-4, p3-4)\n",
      "16: move-and-eat-no-spawn(p4-2, p4-1)\n",
      "\n"
     ]
    },
    {
     "data": {
      "text/plain": [
       "<Figure size 2000x1000 with 1 Axes>"
      ],
      "image/png": "[encoded data removed]"
     },
     "metadata": {},
     "output_type": "display_data"
    }
   ],
   "execution_count": 7
  },
  {
   "cell_type": "code",
   "source": [
    "psp_generator = DirectionalProblemReducedMazeProblemGenerator(problem_count=3, auto=True)\n",
    "psp_generator.display_images()"
   ],
   "metadata": {
    "collapsed": false,
    "is_executing": true,
    "ExecuteTime": {
     "end_time": "2024-04-09T03:35:34.237650Z",
     "start_time": "2024-04-09T03:35:33.433439Z"
    }
   },
   "id": "77c8581e13d8d309",
   "outputs": [
    {
     "name": "stdout",
     "output_type": "stream",
     "text": [
      "[DEBUG] reduced_maze environment generated successfully\n",
      "[DEBUG] problem added\n",
      "[DEBUG] reduced_maze environment generated successfully\n",
      "[DEBUG] problem added\n",
      "[DEBUG] reduced_maze environment generated successfully\n",
      "[DEBUG] problem added\n"
     ]
    },
    {
     "data": {
      "text/plain": [
       "<Figure size 2000x1000 with 3 Axes>"
      ],
      "image/png": "[encoded data removed]"
     },
     "metadata": {},
     "output_type": "display_data"
    }
   ],
   "execution_count": 8
  },
  {
   "cell_type": "code",
   "source": "psp_generator.solve_each();",
   "metadata": {
    "collapsed": false,
    "ExecuteTime": {
     "end_time": "2024-04-09T03:35:35.056539Z",
     "start_time": "2024-04-09T03:35:34.238806Z"
    }
   },
   "id": "4455de74ac76c177",
   "outputs": [
    {
     "name": "stdout",
     "output_type": "stream",
     "text": [
      "Plan 1:\n",
      "Status: PlanGenerationResultStatus.SOLVED_SATISFICING\n",
      "Found plan with 1 steps!\n",
      "0: move(start, goal)\n",
      "\n",
      "Plan 2:\n",
      "Status: PlanGenerationResultStatus.SOLVED_SATISFICING\n",
      "Found plan with 2 steps!\n",
      "0: move(start, r0)\n",
      "1: move(r0, goal)\n",
      "\n",
      "Plan 3:\n",
      "Status: PlanGenerationResultStatus.SOLVED_SATISFICING\n",
      "Found plan with 3 steps!\n",
      "0: move(start, d0)\n",
      "1: move(d0, r46)\n",
      "2: move(r46, goal)\n",
      "\n"
     ]
    }
   ],
   "execution_count": 9
  },
  {
   "metadata": {
    "ExecuteTime": {
     "end_time": "2024-04-09T03:35:35.507770Z",
     "start_time": "2024-04-09T03:35:35.058332Z"
    }
   },
   "cell_type": "code",
   "source": [
    "psp_generator = NonDirectionalProblemReducedMazeProblemGenerator(problem_count=2, auto=True)\n",
    "psp_generator.display_images()"
   ],
   "id": "3990ad7e94352620",
   "outputs": [
    {
     "name": "stdout",
     "output_type": "stream",
     "text": [
      "[DEBUG] reduced_maze environment generated successfully\n",
      "[DEBUG] problem added\n",
      "[DEBUG] reduced_maze environment generated successfully\n",
      "[DEBUG] problem added\n"
     ]
    },
    {
     "data": {
      "text/plain": [
       "<Figure size 2000x1000 with 2 Axes>"
      ],
      "image/png": "[encoded data removed]"
     },
     "metadata": {},
     "output_type": "display_data"
    }
   ],
   "execution_count": 10
  },
  {
   "metadata": {
    "ExecuteTime": {
     "end_time": "2024-04-09T03:35:35.756076Z",
     "start_time": "2024-04-09T03:35:35.508923Z"
    }
   },
   "cell_type": "code",
   "source": "psp_generator.solve_each();",
   "id": "848d47d99419f40a",
   "outputs": [
    {
     "name": "stdout",
     "output_type": "stream",
     "text": [
      "Plan 1:\n",
      "Status: PlanGenerationResultStatus.SOLVED_SATISFICING\n",
      "Found plan with 3 steps!\n",
      "0: move(p0-0, p0-1)\n",
      "1: move(p0-1, p0-2)\n",
      "2: move(p0-2, p0-3)\n",
      "\n",
      "Plan 2:\n",
      "Status: PlanGenerationResultStatus.SOLVED_SATISFICING\n",
      "Found plan with 3 steps!\n",
      "0: move(p2-4, p1-4)\n",
      "1: move(p1-4, p1-3)\n",
      "2: move(p1-3, p0-3)\n",
      "\n"
     ]
    }
   ],
   "execution_count": 11
  },
  {
   "metadata": {
    "ExecuteTime": {
     "end_time": "2024-04-09T03:35:36.077755Z",
     "start_time": "2024-04-09T03:35:35.757001Z"
    }
   },
   "cell_type": "code",
   "source": [
    "psp_generator = NonDirectionalProblemReducedMazeProblemGenerator(problem_count=1, auto=True, tile_size=12)\n",
    "psp_generator.display_images()"
   ],
   "id": "4dcf8e6f39956421",
   "outputs": [
    {
     "name": "stdout",
     "output_type": "stream",
     "text": [
      "[DEBUG] reduced_maze environment generated successfully\n",
      "[DEBUG] problem added\n"
     ]
    },
    {
     "data": {
      "text/plain": [
       "<Figure size 2000x1000 with 1 Axes>"
      ],
      "image/png": "[encoded data removed]"
     },
     "metadata": {},
     "output_type": "display_data"
    }
   ],
   "execution_count": 12
  },
  {
   "metadata": {
    "ExecuteTime": {
     "end_time": "2024-04-09T03:35:40.070590Z",
     "start_time": "2024-04-09T03:35:36.078671Z"
    }
   },
   "cell_type": "code",
   "source": [
    "from src.experiments import variable_experiment\n",
    "plot = variable_experiment(NonDirectionalProblemReducedMazeProblemGenerator)\n",
    "plot"
   ],
   "id": "6c479860d241c1b2",
   "outputs": [
    {
     "name": "stdout",
     "output_type": "stream",
     "text": [
      "[DEBUG] reduced_maze environment generated successfully\n",
      "[DEBUG] problem added\n",
      "Plan 1:\n",
      "Status: PlanGenerationResultStatus.SOLVED_SATISFICING\n",
      "Found plan with 2 steps!\n",
      "0: move(p1-1, p0-1)\n",
      "1: move(p0-1, p0-0)\n",
      "\n",
      "True\n",
      "[DEBUG] reduced_maze environment generated successfully\n",
      "[DEBUG] problem added\n",
      "Plan 1:\n",
      "Status: PlanGenerationResultStatus.SOLVED_SATISFICING\n",
      "Found plan with 1 steps!\n",
      "0: move(p2-1, p1-1)\n",
      "\n",
      "True\n",
      "[DEBUG] reduced_maze environment generated successfully\n",
      "[DEBUG] problem added\n",
      "Plan 1:\n",
      "Status: PlanGenerationResultStatus.SOLVED_SATISFICING\n",
      "Found plan with 1 steps!\n",
      "0: move(p2-1, p1-1)\n",
      "\n",
      "True\n",
      "[DEBUG] reduced_maze environment generated successfully\n",
      "[DEBUG] problem added\n",
      "Plan 1:\n",
      "Status: PlanGenerationResultStatus.SOLVED_SATISFICING\n",
      "Found plan with 9 steps!\n",
      "0: move(p0-2, p0-1)\n",
      "1: move(p0-1, p1-1)\n",
      "2: move(p1-1, p2-1)\n",
      "3: move(p2-1, p3-1)\n",
      "4: move(p3-1, p4-1)\n",
      "5: move(p4-1, p4-2)\n",
      "6: move(p4-2, p4-3)\n",
      "7: move(p4-3, p3-3)\n",
      "8: move(p3-3, p3-4)\n",
      "\n",
      "True\n",
      "[DEBUG] reduced_maze environment generated successfully\n",
      "[DEBUG] problem added\n",
      "Plan 1:\n",
      "Status: PlanGenerationResultStatus.SOLVED_SATISFICING\n",
      "Found plan with 9 steps!\n",
      "0: move(p5-5, p4-5)\n",
      "1: move(p4-5, p4-4)\n",
      "2: move(p4-4, p4-3)\n",
      "3: move(p4-3, p4-2)\n",
      "4: move(p4-2, p3-2)\n",
      "5: move(p3-2, p3-1)\n",
      "6: move(p3-1, p2-1)\n",
      "7: move(p2-1, p2-0)\n",
      "8: move(p2-0, p1-0)\n",
      "\n",
      "True\n",
      "[DEBUG] reduced_maze environment generated successfully\n",
      "[DEBUG] problem added\n",
      "Plan 1:\n",
      "Status: PlanGenerationResultStatus.SOLVED_SATISFICING\n",
      "Found plan with 9 steps!\n",
      "0: move(p5-2, p4-2)\n",
      "1: move(p4-2, p4-3)\n",
      "2: move(p4-3, p4-4)\n",
      "3: move(p4-4, p3-4)\n",
      "4: move(p3-4, p2-4)\n",
      "5: move(p2-4, p1-4)\n",
      "6: move(p1-4, p1-3)\n",
      "7: move(p1-3, p1-2)\n",
      "8: move(p1-2, p0-2)\n",
      "\n",
      "True\n",
      "[DEBUG] reduced_maze environment generated successfully\n",
      "[DEBUG] problem added\n",
      "Plan 1:\n",
      "Status: PlanGenerationResultStatus.SOLVED_SATISFICING\n",
      "Found plan with 7 steps!\n",
      "0: move(p6-7, p6-6)\n",
      "1: move(p6-6, p6-5)\n",
      "2: move(p6-5, p6-4)\n",
      "3: move(p6-4, p6-3)\n",
      "4: move(p6-3, p6-2)\n",
      "5: move(p6-2, p6-1)\n",
      "6: move(p6-1, p6-0)\n",
      "\n",
      "True\n",
      "[DEBUG] reduced_maze environment generated successfully\n",
      "[DEBUG] problem added\n",
      "Plan 1:\n",
      "Status: PlanGenerationResultStatus.SOLVED_SATISFICING\n",
      "Found plan with 8 steps!\n",
      "0: move(p8-7, p8-6)\n",
      "1: move(p8-6, p8-5)\n",
      "2: move(p8-5, p7-5)\n",
      "3: move(p7-5, p7-4)\n",
      "4: move(p7-4, p6-4)\n",
      "5: move(p6-4, p5-4)\n",
      "6: move(p5-4, p4-4)\n",
      "7: move(p4-4, p4-5)\n",
      "\n",
      "True\n"
     ]
    },
    {
     "data": {
      "text/plain": [
       "<Figure size 2000x1000 with 1 Axes>"
      ],
      "image/png": "[encoded data removed]"
     },
     "metadata": {},
     "output_type": "display_data"
    },
    {
     "data": {
      "text/plain": [
       "<Figure size 2000x1000 with 1 Axes>"
      ],
      "image/png": "[encoded data removed]"
     },
     "metadata": {},
     "output_type": "display_data"
    },
    {
     "data": {
      "text/plain": [
       "<Figure size 2000x1000 with 1 Axes>"
      ],
      "image/png": "[encoded data removed]"
     },
     "metadata": {},
     "output_type": "display_data"
    },
    {
     "data": {
      "text/plain": [
       "<Figure size 2000x1000 with 1 Axes>"
      ],
      "image/png": "[encoded data removed]"
     },
     "metadata": {},
     "output_type": "display_data"
    },
    {
     "data": {
      "text/plain": [
       "<Figure size 2000x1000 with 1 Axes>"
      ],
      "image/png": "[encoded data removed]"
     },
     "metadata": {},
     "output_type": "display_data"
    },
    {
     "data": {
      "text/plain": [
       "<Figure size 2000x1000 with 1 Axes>"
      ],
      "image/png": "[encoded data removed]"
     },
     "metadata": {},
     "output_type": "display_data"
    },
    {
     "data": {
      "text/plain": [
       "<Figure size 2000x1000 with 1 Axes>"
      ],
      "image/png": "[encoded data removed]"
     },
     "metadata": {},
     "output_type": "display_data"
    },
    {
     "data": {
      "text/plain": [
       "<Figure size 2000x1000 with 1 Axes>"
      ],
      "image/png": "[encoded data removed]"
     },
     "metadata": {},
     "output_type": "display_data"
    },
    {
     "data": {
      "text/plain": [
       "<Figure size 640x480 with 1 Axes>"
      ],
      "image/png": "[encoded data removed]"
     },
     "metadata": {},
     "output_type": "display_data"
    }
   ],
   "execution_count": 13
  }
 ],
 "metadata": {
  "kernelspec": {
   "display_name": "Python 3",
   "language": "python",
   "name": "python3"
  },
  "language_info": {
   "codemirror_mode": {
    "name": "ipython",
    "version": 2
   },
   "file_extension": ".py",
   "mimetype": "text/x-python",
   "name": "python",
   "nbconvert_exporter": "python",
   "pygments_lexer": "ipython2",
   "version": "2.7.6"
  }
 },
 "nbformat": 4,
 "nbformat_minor": 5
}
